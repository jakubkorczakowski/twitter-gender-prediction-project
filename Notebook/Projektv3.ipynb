{
 "cells": [
  {
   "cell_type": "markdown",
   "source": [
    "# Projekt z przedmiotu Podstawy Reprezentacji i Analizy Danych"
   ],
   "metadata": {
    "collapsed": false
   }
  },
  {
   "cell_type": "markdown",
   "source": [
    "## Temat Projektu - Twitter"
   ],
   "metadata": {
    "collapsed": false
   }
  },
  {
   "cell_type": "markdown",
   "source": [
    "Projekt dotyczy zbioru danych z Twittera, zawierającego profile i przykładowe tweety użytkowników. Celem naszego projektu jest analiza podanego zbioru danych i próba przewidzenia płci (lub przynależności do firmy) użytkownika na jego podstawie."
   ],
   "metadata": {
    "collapsed": false
   }
  },
  {
   "cell_type": "code",
   "execution_count": null,
   "outputs": [],
   "source": [
    "import numpy as np\n",
    "import pandas as pd\n",
    "import seaborn as sns\n",
    "import matplotlib.pyplot as plt\n",
    "# zmiana sposobu wyświetlania danych typu float\n",
    "pd.options.display.float_format = \"{:.2f}\".format\n",
    "\n",
    "import re\n",
    "import time\n",
    "import collections\n",
    "\n",
    "from sklearn import metrics\n",
    "from sklearn.model_selection import train_test_split\n",
    "from sklearn.feature_extraction.text import CountVectorizer\n",
    "from sklearn.feature_extraction.text import TfidfTransformer\n",
    "\n",
    "from sklearn.naive_bayes import MultinomialNB\n",
    "from sklearn.neighbors import KNeighborsClassifier\n",
    "from sklearn.neighbors import NearestCentroid\n",
    "from sklearn.ensemble import RandomForestClassifier\n",
    "\n",
    "import nltk\n",
    "nltk.download('punkt')\n",
    "nltk.download('stopwords')\n",
    "nltk.download('wordnet')\n",
    "from nltk.tokenize import word_tokenize\n",
    "from nltk.corpus import stopwords\n",
    "from nltk.stem import SnowballStemmer\n",
    "from nltk.tokenize import word_tokenize "
   ],
   "metadata": {
    "collapsed": false,
    "pycharm": {
     "name": "#%%\n"
    }
   }
  },
  {
   "cell_type": "markdown",
   "source": [
    "## Opis zbioru danych"
   ],
   "metadata": {
    "collapsed": false
   }
  },
  {
   "cell_type": "markdown",
   "source": [
    "Zbiór danych składa się z kilkunastu kolumn z danymi. Są to:\n",
    "1. __\\_unit_id__: unikalne id użytkownika\n",
    "2. __\\_golden__: czy użytkownik znajduje się w złotym standardzie dla modelu; TRUE lub FALSE\n",
    "3. __\\_unit_state__: stan obserwacji\n",
    "4. __\\_trusted_judgments__: liczba potwierdzonych osądów\n",
    "5. __\\_last_judgment_at__: data i godzina ostatniego potwierdzonego osądu\n",
    "6. __gender__: płeć lub przynależność do firmy, odpowiednio(male, female, lub brand (dla firm))\n",
    "7. __gender\\:confidence__: liczba rzeczywista z zakresu [0 , 1] odpowiadająca pewności osądu przynależności do płci lub firmy\n",
    "8. __profile_yn__: informacja czy dany profil był dostępny do osądu\n",
    "9. __profile_yn\\:confidence__: pewność czy dany profil istnieje czy nie\n",
    "10. __created__: data i czas utworzenia profilu\n",
    "11. __description__: opis profilu użytkownika\n",
    "12. __fav_number__: liczba twwetów, które użytkownik polubił\n",
    "13. __gender_gold__: jaka jest płeć, jeżeli profil znajduje się w złotym standardzie\n",
    "14. __link_color__: kolor linku w formacie hex\n",
    "15. __name__: nazwa użytkownika\n",
    "16. __profile_yn_gold__: czy pole __profile_yn__ należy do złotego standardu\n",
    "17. __profileimage__: link do zdjęcia profilowego\n",
    "18. __retweet_count__: ile razu użytkownik podał dalej tweeta\n",
    "19. __sidebar_color__: kolor paska bocznego jako wartość hex\n",
    "20. __text__: tekst jednego losowego tweetu użytkownika\n",
    "21. __tweet_coord__: pozycja geograficzna użytkownika, jeśli była dostępna, w postaci \"[szerokość geograficzna, długość geograficzna]\"\n",
    "22. __tweet_count__: liczba twwetów użytkownika\n",
    "23. __tweet_created__: kiedy tweet z kolumny __text__ został utworzony\n",
    "24. __tweet_id__: id losowego tweeta\n",
    "25. __tweet_location__: lokalizacja tweeta\n",
    "26. __user_timezone__: strefa czasowa użytkownika"
   ],
   "metadata": {
    "collapsed": false
   }
  },
  {
   "cell_type": "markdown",
   "source": [
    "## Wczytanie danych"
   ],
   "metadata": {
    "collapsed": false
   }
  },
  {
   "cell_type": "markdown",
   "source": [
    "Dane przechowywane są w pliku csv o nazwie __gender-classifier-DFE-791531.csv__. Za pomocą pakietu pandas wczytaliśmy je do naszego skryptu. Zdecydowaliśmy się na wybór kolumn 6,7, 11, 12, 14, 15, 18, 19, 20, 22, ponieważ inne kolumny zawierają informacje nieprzydatne dla naszego problemu."
   ],
   "metadata": {
    "collapsed": false
   }
  },
  {
   "cell_type": "code",
   "execution_count": null,
   "outputs": [],
   "source": [
    "df = pd.read_csv(\"../Data/gender-classifier-DFE-791531.csv\", \n",
    "                 encoding = \"latin1\", \n",
    "                 engine='python', \n",
    "                 usecols=[5, 6, 10, 11, 13, 14, 17, 18, 19, 21])\n",
    "df.head()"
   ],
   "metadata": {
    "collapsed": false,
    "pycharm": {
     "name": "#%%\n"
    }
   }
  },
  {
   "cell_type": "markdown",
   "source": [
    "We wczytanym zbiorze danych znajduje się 20050 obiektów. Posiadają one 10 atrybutów, z których 6 jest typu `object`, 3 są typu `int64` i 1 typu `float64`. "
   ],
   "metadata": {
    "collapsed": false
   }
  },
  {
   "cell_type": "code",
   "execution_count": null,
   "outputs": [],
   "source": [
    "df.info()"
   ],
   "metadata": {
    "collapsed": false,
    "pycharm": {
     "name": "#%%\n"
    }
   }
  },
  {
   "cell_type": "markdown",
   "source": [
    "W zbiorze danych występują braki. Najwięcej wartości nieznanych jest w kolumnie `description`, która zawiera opis profilu użytkownika."
   ],
   "metadata": {
    "collapsed": false
   }
  },
  {
   "cell_type": "code",
   "execution_count": null,
   "outputs": [],
   "source": [
    "df.isna().sum(axis=0)"
   ],
   "metadata": {
    "collapsed": false,
    "pycharm": {
     "name": "#%%\n"
    }
   }
  },
  {
   "cell_type": "markdown",
   "source": [
    "## Czyszczenie danych"
   ],
   "metadata": {
    "collapsed": false
   }
  },
  {
   "cell_type": "markdown",
   "source": [
    "Kolumna `gender:confidence` zawiera pewność osądzenia płci użytkownika, przyjmuje ona wartości od 0 do 1. Do dalszej analizy usuniemy obiekty z pewnością mniejszą niż __0.9__ lub nieznaną, ze względu na ich małą wiarygodność."
   ],
   "metadata": {
    "collapsed": false
   }
  },
  {
   "cell_type": "code",
   "execution_count": null,
   "outputs": [],
   "source": [
    "df = df.where((df['gender:confidence'] > 0.9) & (df['gender'] != 'unknown')).dropna()\n",
    "df.head()"
   ],
   "metadata": {
    "collapsed": false,
    "pycharm": {
     "name": "#%%\n"
    }
   }
  },
  {
   "cell_type": "markdown",
   "source": [
    "Po usunięciu wyżej wspomnianych obiektów w zbiorze danych pozostało 11779 wierszy. Nie ma w nich już braków."
   ],
   "metadata": {
    "collapsed": false
   }
  },
  {
   "cell_type": "code",
   "execution_count": null,
   "outputs": [],
   "source": [
    "df.info()"
   ],
   "metadata": {
    "collapsed": false,
    "pycharm": {
     "name": "#%%\n"
    }
   }
  },
  {
   "cell_type": "markdown",
   "source": [
    "Po wykonaniu redukcji można usunąć kolumnę `gender:confidence`, ponieważ nie będzie nam ona potrzebna w dalszej analizie."
   ],
   "metadata": {
    "collapsed": false
   }
  },
  {
   "cell_type": "code",
   "execution_count": null,
   "outputs": [],
   "source": [
    "df = df.drop(columns=['gender:confidence'])"
   ],
   "metadata": {
    "collapsed": false,
    "pycharm": {
     "name": "#%%\n"
    }
   }
  },
  {
   "cell_type": "markdown",
   "source": [
    "## Przekształcenie kolumn zawierających kolory"
   ],
   "metadata": {
    "collapsed": false
   }
  },
  {
   "cell_type": "markdown",
   "source": [
    "W zbiorze danych są dwie kolumny zawierające informacje o kolorach. Są to: `link_color` oraz `sidebar_color`. Kolory są w nich zapisane heksadecymalnie. W celu użycia kolorów podczas klasyfikacji trzeba przekonwertować je do postaci RGB."
   ],
   "metadata": {
    "collapsed": false
   }
  },
  {
   "cell_type": "markdown",
   "source": [
    "W kolumnach opisujących kolor występują wartości `9999` oraz `0`. Nie są one w formacie heksadecymalnym, więc należy je na niego zamienić."
   ],
   "metadata": {
    "collapsed": false
   }
  },
  {
   "cell_type": "code",
   "execution_count": null,
   "outputs": [],
   "source": [
    "df.link_color = df.link_color.replace(['9999', '0'], '000000')\n",
    "df.sidebar_color = df.sidebar_color.replace(['9999', '0'], '000000')"
   ],
   "metadata": {
    "collapsed": false,
    "pycharm": {
     "name": "#%%\n"
    }
   }
  },
  {
   "cell_type": "markdown",
   "source": [
    "Funkcja `hexToRGB` dokonuje konwersji liczby zapisanej w formacie heksadecymalnym na postać RGB."
   ],
   "metadata": {
    "collapsed": false
   }
  },
  {
   "cell_type": "code",
   "execution_count": null,
   "outputs": [],
   "source": [
    "def hexToRGB(color):\n",
    "    if color == '0':\n",
    "        return 255, 255, 255\n",
    "    if len(color)<5:\n",
    "        return 255, 255, 255\n",
    "    try:\n",
    "        color = color.replace(\".\", \"\")\n",
    "        color = color.replace(\"+\", \"\")\n",
    "        r=int(color[0:2],16)\n",
    "        g=int(color[2:4],16)\n",
    "        b=int(color[4:6],16)\n",
    "    except (RuntimeError, TypeError, NameError, ValueError):\n",
    "        return None, None, None\n",
    "    else:\n",
    "        return r,g,b "
   ],
   "metadata": {
    "collapsed": false,
    "pycharm": {
     "name": "#%%\n"
    }
   }
  },
  {
   "cell_type": "markdown",
   "source": [
    "Dodanie kolumn z wartościami RGB kolorów w kolumnach `link_color` i `sidebar_color`."
   ],
   "metadata": {
    "collapsed": false
   }
  },
  {
   "cell_type": "code",
   "execution_count": null,
   "outputs": [],
   "source": [
    "df[\"link_color_R\"] = df[\"link_color\"].apply(lambda x: hexToRGB(str(x))[0])\n",
    "df[\"link_color_G\"] = df[\"link_color\"].apply(lambda x: hexToRGB(str(x))[1])\n",
    "df[\"link_color_B\"] = df[\"link_color\"].apply(lambda x: hexToRGB(str(x))[2])\n",
    "\n",
    "df[\"sidebar_color_R\"] = df[\"sidebar_color\"].apply(lambda x: hexToRGB(str(x))[0])\n",
    "df[\"sidebar_color_G\"] = df[\"sidebar_color\"].apply(lambda x: hexToRGB(str(x))[1])\n",
    "df[\"sidebar_color_B\"] = df[\"sidebar_color\"].apply(lambda x: hexToRGB(str(x))[2])\n",
    "\n",
    "df = df.dropna()\n",
    "df.loc[:, ['link_color', 'sidebar_color', 'link_color_R', 'link_color_G', 'link_color_B', 'sidebar_color_R', 'sidebar_color_G', 'sidebar_color_B']].head()"
   ],
   "metadata": {
    "collapsed": false,
    "pycharm": {
     "name": "#%%\n"
    }
   }
  },
  {
   "cell_type": "markdown",
   "source": [
    "## Wykresy przedstawiające najczęściej używane kolory"
   ],
   "metadata": {
    "collapsed": false
   }
  },
  {
   "cell_type": "code",
   "execution_count": null,
   "outputs": [],
   "source": [
    "male_top_link_color = df[df['gender'] == 'male']['link_color'].value_counts().head(10)\n",
    "male_top_link_color_idx = male_top_link_color.index\n",
    "male_top_color = male_top_link_color_idx.values\n",
    "\n",
    "l = lambda x: '#'+x\n",
    "\n",
    "sns.set_style(\"darkgrid\", {\"axes.facecolor\": \"#E0D6D6\"})\n",
    "sns.barplot(x = male_top_link_color, y = male_top_color , palette=list(map(l, male_top_color))).set_title('Most used link colors by men')"
   ],
   "metadata": {
    "collapsed": false,
    "pycharm": {
     "name": "#%%\n"
    }
   }
  },
  {
   "cell_type": "code",
   "execution_count": null,
   "outputs": [],
   "source": [
    "female_top_link_color = df[df['gender'] == 'female']['link_color'].value_counts().head(10)\n",
    "female_top_link_color_idx = female_top_link_color.index\n",
    "female_top_color = female_top_link_color_idx.values\n",
    "\n",
    "l = lambda x: '#'+x\n",
    "\n",
    "sns.set_style(\"darkgrid\", {\"axes.facecolor\": \"#E0D6D6\"})\n",
    "sns.barplot (x = female_top_link_color, y = female_top_color , palette=list(map(l, female_top_color))).set_title('Most used link colors by women')"
   ],
   "metadata": {
    "collapsed": false,
    "pycharm": {
     "name": "#%%\n"
    }
   }
  },
  {
   "cell_type": "code",
   "execution_count": null,
   "outputs": [],
   "source": [
    "brand_top_link_color = df[df['gender'] == 'brand']['link_color'].value_counts().head(10)\n",
    "brand_top_link_color_idx = brand_top_link_color.index\n",
    "brand_top_color = brand_top_link_color_idx.values\n",
    "\n",
    "l = lambda x: '#'+x\n",
    "\n",
    "sns.set_style(\"darkgrid\", {\"axes.facecolor\": \"#E0D6D6\"})\n",
    "sns.barplot (x = brand_top_link_color, y = brand_top_color , palette=list(map(l, brand_top_color))).set_title('Most used link colors by brands')"
   ],
   "metadata": {
    "collapsed": false,
    "pycharm": {
     "name": "#%%\n"
    }
   }
  },
  {
   "cell_type": "markdown",
   "source": [
    "Najczęściej wybieranym kolorem linku przez użytkowników Twittera jest kolor niebieski. W przypadku kolejnych kolorów kolejności występują różnicę. Drugim najczęściej wybieranym kolorem jest fioletowy dla kobiet, inny odcień niebieskiego dla mężczyzn oraz zielony dla firm. Ze względu na różnicę w wykresach, kolor linku jako atrybut może być przydatny."
   ],
   "metadata": {
    "collapsed": false
   }
  },
  {
   "cell_type": "code",
   "execution_count": null,
   "outputs": [],
   "source": [
    "male_top_sidebar_color = df[df['gender'] == 'male']['sidebar_color'].value_counts().head(10)\n",
    "male_top_sidebar_color_idx = male_top_sidebar_color.index\n",
    "male_top_color = male_top_sidebar_color_idx.values\n",
    "\n",
    "l = lambda x: '#'+x\n",
    "\n",
    "sns.set_style(\"darkgrid\", {\"axes.facecolor\": \"#E0D6D6\"})\n",
    "sns.barplot (x = male_top_sidebar_color, y = male_top_color , palette=list(map(l, male_top_color))).set_title('Most used sidebar colors by men')"
   ],
   "metadata": {
    "collapsed": false,
    "pycharm": {
     "name": "#%%\n"
    }
   }
  },
  {
   "cell_type": "code",
   "execution_count": null,
   "outputs": [],
   "source": [
    "female_top_sidebar_color = df[df['gender'] == 'female']['sidebar_color'].value_counts().head(10)\n",
    "female_top_sidebar_color_idx = female_top_sidebar_color.index\n",
    "female_top_color = female_top_sidebar_color_idx.values\n",
    "\n",
    "l = lambda x: '#'+x\n",
    "\n",
    "sns.set_style(\"darkgrid\", {\"axes.facecolor\": \"#E0D6D6\"})\n",
    "plot4 =sns.barplot (x = female_top_sidebar_color, y = female_top_color, palette=list(map(l, female_top_color))).set_title('Most used sidebar colors by women')"
   ],
   "metadata": {
    "collapsed": false,
    "pycharm": {
     "name": "#%%\n"
    }
   }
  },
  {
   "cell_type": "code",
   "execution_count": null,
   "outputs": [],
   "source": [
    "brand_top_sidebar_color = df[df['gender'] == 'brand']['sidebar_color'].value_counts().head(10)\n",
    "brand_top_sidebar_color_idx = brand_top_sidebar_color.index\n",
    "brand_top_color = brand_top_sidebar_color_idx.values\n",
    "\n",
    "l = lambda x: '#'+x\n",
    "\n",
    "sns.set_style(\"darkgrid\", {\"axes.facecolor\": \"#E0D6D6\"})\n",
    "sns.barplot (x = brand_top_sidebar_color, y = brand_top_color , palette=list(map(l, brand_top_color))).set_title('Most used sidebar colors by brands')"
   ],
   "metadata": {
    "collapsed": false,
    "pycharm": {
     "name": "#%%\n"
    }
   }
  },
  {
   "cell_type": "markdown",
   "source": [
    "Cztery najczęściej używane kolory paska bocznego są takie same dla mężczyzn, kobiet i firm. Są to niebieski, biały, czarny i szary. Ze względu na brak różnic między grupami, kolor paska bocznego nie będzie atrybutem przydatnym podczas decydowania o przynależności do grup."
   ],
   "metadata": {
    "collapsed": false
   }
  },
  {
   "cell_type": "markdown",
   "source": [
    "## Wykresy przedstawiające dane z atrybutów ilościowych"
   ],
   "metadata": {
    "collapsed": false
   }
  },
  {
   "cell_type": "markdown",
   "source": [
    "W zbiorze danych znajdują się 3 atrybuty ilościowe. Są to `fav_number`, `tweet_count`, `retweet_count`."
   ],
   "metadata": {
    "collapsed": false
   }
  },
  {
   "cell_type": "markdown",
   "source": [
    "### Ilość polubień użytkownika"
   ],
   "metadata": {
    "collapsed": false
   }
  },
  {
   "cell_type": "code",
   "execution_count": null,
   "outputs": [],
   "source": [
    "gfn_mean = (df.loc[:, ['gender', 'fav_number']]\n",
    "            .groupby('gender')\n",
    "            .mean()\n",
    "            .sort_values(by='fav_number'))\n",
    "gfn_mean"
   ],
   "metadata": {
    "collapsed": false,
    "pycharm": {
     "name": "#%%\n"
    }
   }
  },
  {
   "cell_type": "code",
   "execution_count": null,
   "outputs": [],
   "source": [
    "sns.set_style(\"whitegrid\", {\"axes.facecolor\": \"#FFFFFF\"})\n",
    "gfn_mean.plot.bar()"
   ],
   "metadata": {
    "collapsed": false,
    "pycharm": {
     "name": "#%%\n"
    }
   }
  },
  {
   "cell_type": "markdown",
   "source": [
    "### Ilość tweetów użytkownika"
   ],
   "metadata": {
    "collapsed": false
   }
  },
  {
   "cell_type": "code",
   "execution_count": null,
   "outputs": [],
   "source": [
    "gtc_mean = (df.loc[:, ['gender', 'tweet_count']]\n",
    "            .groupby('gender')\n",
    "            .mean()\n",
    "            .sort_values(by='tweet_count'))\n",
    "gtc_mean"
   ],
   "metadata": {
    "collapsed": false,
    "pycharm": {
     "name": "#%%\n"
    }
   }
  },
  {
   "cell_type": "code",
   "execution_count": null,
   "outputs": [],
   "source": [
    "gtc_mean.plot.bar()"
   ],
   "metadata": {
    "collapsed": false,
    "pycharm": {
     "name": "#%%\n"
    }
   }
  },
  {
   "cell_type": "markdown",
   "source": [
    "### Ilość razy kiedy użytkownik podał tweet dalej"
   ],
   "metadata": {
    "collapsed": false
   }
  },
  {
   "cell_type": "code",
   "execution_count": null,
   "outputs": [],
   "source": [
    "grc_mean = (df.loc[:, ['gender', 'retweet_count']]\n",
    "            .groupby('gender')\n",
    "            .mean()\n",
    "            .sort_values(by='retweet_count'))\n",
    "grc_mean"
   ],
   "metadata": {
    "collapsed": false,
    "pycharm": {
     "name": "#%%\n"
    }
   }
  },
  {
   "cell_type": "code",
   "execution_count": null,
   "outputs": [],
   "source": [
    "grc_mean.plot.bar()"
   ],
   "metadata": {
    "collapsed": false,
    "pycharm": {
     "name": "#%%\n"
    }
   }
  },
  {
   "cell_type": "markdown",
   "source": [
    "## Przekształcanie kolumn zawierających tekst"
   ],
   "metadata": {
    "collapsed": false
   }
  },
  {
   "cell_type": "markdown",
   "source": [
    "### Usuwanie znaków specjalnych z tekstu i opisu"
   ],
   "metadata": {
    "collapsed": false
   }
  },
  {
   "cell_type": "markdown",
   "source": [
    "Funckja usuwająca znaki spoza systemu ASCII, linki, znaki specjalne oraz podwójne spacje."
   ],
   "metadata": {
    "collapsed": false
   }
  },
  {
   "cell_type": "code",
   "execution_count": null,
   "outputs": [],
   "source": [
    "def normalize_text(text):\n",
    "    text = text.lower()\n",
    "    \n",
    "    # Usuń znaki spoza ASCII\n",
    "    text = re.sub('[^\\x00-\\x7F]+',' ', text)\n",
    "    \n",
    "    # Usuń linki\n",
    "    text = re.sub('https?:\\/\\/.*[\\r\\n] ', ' ', text)\n",
    "    \n",
    "    # Usuń znaki specjalne\n",
    "    text = re.sub('[?!+%{}:;.,#\"\\'()\\[\\]_#\\&-@]', '',text) #@&-\n",
    "    \n",
    "    # Usuń podwójne spacje\n",
    "    text = re.sub('\\s+',' ',text)\n",
    "    \n",
    "    return text"
   ],
   "metadata": {
    "collapsed": false,
    "pycharm": {
     "name": "#%%\n"
    }
   }
  },
  {
   "cell_type": "markdown",
   "source": [
    "W orginalnej tabeli zostają stworzone trzy dodatkowe kolumny. Jedna `tekst_norm` jest znormalizowanym tekstem tweeta, druga `description_norm` jest znormalizowanym opisem oraz trzecia `all_text` jest połączeniem znormalizowanych tekstu i opisu."
   ],
   "metadata": {
    "collapsed": false
   }
  },
  {
   "cell_type": "code",
   "execution_count": null,
   "outputs": [],
   "source": [
    "df['text_norm'] = [normalize_text(text) for text in df['text']]\n",
    "df['description_norm'] = [normalize_text(text) for text in df['description']]\n",
    "df['all_text'] = df['text_norm'].str.cat(df['description_norm'],sep=' ')\n",
    "\n",
    "df = df.reset_index(drop=True)"
   ],
   "metadata": {
    "collapsed": false,
    "pycharm": {
     "name": "#%%\n"
    }
   }
  },
  {
   "cell_type": "markdown",
   "source": [
    "### Stop words"
   ],
   "metadata": {
    "collapsed": false
   }
  },
  {
   "cell_type": "markdown",
   "source": [
    "Zbiór słów nazywany __stop words__ zawiera słowa nieposiadające dużego znaczenia. Usuwa się je w celu oczyszczenia danych tekstowych."
   ],
   "metadata": {
    "collapsed": false
   }
  },
  {
   "cell_type": "code",
   "execution_count": null,
   "outputs": [],
   "source": [
    "def del_stop_words_from_text(text):\n",
    "    stop_words = set(stopwords.words('english')) \n",
    "    word_tokens = word_tokenize(text) \n",
    "    \n",
    "    w_text = \"\"\n",
    "  \n",
    "    for w in word_tokens: \n",
    "        if w not in stop_words: \n",
    "            w_text += w\n",
    "            w_text += \" \"\n",
    "    \n",
    "    return w_text"
   ],
   "metadata": {
    "collapsed": false,
    "pycharm": {
     "name": "#%%\n"
    }
   }
  },
  {
   "cell_type": "code",
   "execution_count": null,
   "outputs": [],
   "source": [
    "df['text_stop'] = [del_stop_words_from_text(text) for text in df['text_norm']]\n",
    "df['all_text_stop'] = [del_stop_words_from_text(text) for text in df['all_text']]\n",
    "df['description_stop'] = [del_stop_words_from_text(text) for text in df['description_norm']]"
   ],
   "metadata": {
    "collapsed": false,
    "pycharm": {
     "name": "#%%\n"
    }
   }
  },
  {
   "cell_type": "markdown",
   "source": [
    "Przykładowe tweety przed i po usunięciu __stop words__."
   ],
   "metadata": {
    "collapsed": false
   }
  },
  {
   "cell_type": "code",
   "execution_count": null,
   "outputs": [],
   "source": [
    "df['text_norm'][3]"
   ],
   "metadata": {
    "collapsed": false,
    "pycharm": {
     "name": "#%%\n"
    }
   }
  },
  {
   "cell_type": "code",
   "execution_count": null,
   "outputs": [],
   "source": [
    "df['text_stop'][3]"
   ],
   "metadata": {
    "collapsed": false,
    "pycharm": {
     "name": "#%%\n"
    }
   }
  },
  {
   "cell_type": "markdown",
   "source": [
    "### Stemming"
   ],
   "metadata": {
    "collapsed": false
   }
  },
  {
   "cell_type": "markdown",
   "source": [
    "__Stemming__ to technika normalizacji danych tekstowych polegająca usunięciu końcówek z wyrazów."
   ],
   "metadata": {
    "collapsed": false
   }
  },
  {
   "cell_type": "code",
   "execution_count": null,
   "outputs": [],
   "source": [
    "def stem_text(text, stemmer):\n",
    "    text_list = text.split()\n",
    "    \n",
    "    s_text = \"\"\n",
    "    \n",
    "    for item in text_list:\n",
    "        s_text += stemmer.stem(item)\n",
    "        s_text += \" \"\n",
    "    \n",
    "    return s_text"
   ],
   "metadata": {
    "collapsed": false,
    "pycharm": {
     "name": "#%%\n"
    }
   }
  },
  {
   "cell_type": "code",
   "execution_count": null,
   "outputs": [],
   "source": [
    "stemmer = SnowballStemmer(\"english\")\n",
    "\n",
    "df['text_stem'] = [stem_text(text, stemmer) for text in df['text_stop']]\n",
    "df['all_text_stem'] = [stem_text(text, stemmer) for text in df['all_text_stop']]\n",
    "df['description_stem'] = [stem_text(text, stemmer) for text in df['description_stop']]"
   ],
   "metadata": {
    "collapsed": false,
    "pycharm": {
     "name": "#%%\n"
    }
   }
  },
  {
   "cell_type": "markdown",
   "source": [
    "Przykładowe tweety przed i po zastosowaniu techniki __stemming__."
   ],
   "metadata": {
    "collapsed": false
   }
  },
  {
   "cell_type": "code",
   "execution_count": null,
   "outputs": [],
   "source": [
    "df['text_stop'][3]"
   ],
   "metadata": {
    "collapsed": false,
    "pycharm": {
     "name": "#%%\n"
    }
   }
  },
  {
   "cell_type": "code",
   "execution_count": null,
   "outputs": [],
   "source": [
    "df['text_stem'][3]"
   ],
   "metadata": {
    "collapsed": false,
    "pycharm": {
     "name": "#%%\n"
    }
   }
  },
  {
   "cell_type": "markdown",
   "source": [
    "## Wizualizacja najczęściej używanych słów ze względu na płeć"
   ],
   "metadata": {
    "collapsed": false
   }
  },
  {
   "cell_type": "markdown",
   "source": [
    "Funckja tworząca wykresy najczęściej użytych słów dla płci oraz dla wybranego tekstu. "
   ],
   "metadata": {
    "collapsed": false
   }
  },
  {
   "cell_type": "code",
   "execution_count": null,
   "outputs": [],
   "source": [
    "def plot_common_words(gender, text_name, color):\n",
    "    X = df[df['gender'] == gender][[text_name]]\n",
    "    X.columns=['Text']\n",
    "    text = X['Text'].tolist()\n",
    "\n",
    "    tokens = []\n",
    "\n",
    "    for item in text:\n",
    "        tokens.append(word_tokenize(item))\n",
    "\n",
    "    words = []\n",
    "\n",
    "    for item in tokens:\n",
    "        words = words + item\n",
    "\n",
    "    counter = dict(collections.Counter(words))\n",
    "    counter_df = pd.DataFrame.from_dict(counter, orient='index').reset_index().rename(columns={'index':'word', 0:'count'})\n",
    "    counter_df = counter_df.sort_values(by=['count'], ascending=False).head(10)\n",
    "    \n",
    "    plt.figure(figsize=(14, 7))\n",
    "    plt.barh(counter_df['word'], counter_df['count'], color=color)\n",
    "    plt.title('Most used words by ' + gender + 's for ' + text_name)\n",
    "    plt.xlabel('frequency')\n",
    "    plt.ylabel('words')\n",
    "    plt.gca().invert_yaxis()\n",
    "    plt.show()"
   ],
   "metadata": {
    "collapsed": false,
    "pycharm": {
     "name": "#%%\n"
    }
   }
  },
  {
   "cell_type": "markdown",
   "source": [
    "Użycie funkcji, dla wszystkich płci, dla połączonego tekstu tweeta i opisu."
   ],
   "metadata": {
    "collapsed": false
   }
  },
  {
   "cell_type": "code",
   "execution_count": null,
   "outputs": [],
   "source": [
    "# cały tekst\n",
    "plot_common_words('male', 'all_text_stem', '#0C86CF')\n",
    "plot_common_words('female', 'all_text_stem', '#E6ADD8')\n",
    "plot_common_words('brand', 'all_text_stem', '#000000')"
   ],
   "metadata": {
    "collapsed": false,
    "pycharm": {
     "name": "#%%\n"
    }
   }
  },
  {
   "cell_type": "markdown",
   "source": [
    "W połączonym tekście widać wyraźnie różnicę w słowach używanych przez firmy i przez osoby prywatne. Niestety różnica między słowami używanymi przez mężczyzn i kobiety."
   ],
   "metadata": {
    "collapsed": false
   }
  },
  {
   "cell_type": "code",
   "execution_count": null,
   "outputs": [],
   "source": [
    "# opis\n",
    "plot_common_words('male', 'description_stem', '#0C86CF')\n",
    "plot_common_words('female', 'description_stem', '#E6ADD8')\n",
    "plot_common_words('brand', 'description_stem', '#000000')"
   ],
   "metadata": {
    "collapsed": false,
    "pycharm": {
     "name": "#%%\n"
    }
   }
  },
  {
   "cell_type": "markdown",
   "source": [
    "W opisie profilu ponownie można wyraźnie odróżnić słowa używane przez firmy. W przypadku obu płci pokrywają się pierwsze 4 pozycje na liście, jednak kolejne słowa różnią się od siebie."
   ],
   "metadata": {
    "collapsed": false
   }
  },
  {
   "cell_type": "code",
   "execution_count": null,
   "outputs": [],
   "source": [
    "# tekst tweeta\n",
    "plot_common_words('male', 'text_stem', '#0C86CF')\n",
    "plot_common_words('female', 'text_stem', '#E6ADD8')\n",
    "plot_common_words('brand', 'text_stem', '#000000')"
   ],
   "metadata": {
    "collapsed": false,
    "pycharm": {
     "name": "#%%\n"
    }
   }
  },
  {
   "cell_type": "markdown",
   "source": [
    "W tekscie tweeta sytuacja jest podobna jak w przypadku całego tekstu i opisu."
   ],
   "metadata": {
    "collapsed": false
   }
  },
  {
   "cell_type": "markdown",
   "source": [
    "# Przewidywanie płci"
   ],
   "metadata": {
    "collapsed": false
   }
  },
  {
   "cell_type": "markdown",
   "source": [
    "## Wybór klasyfikatora"
   ],
   "metadata": {
    "collapsed": false
   }
  },
  {
   "cell_type": "markdown",
   "source": [
    "Postanowiliśmy sprawdzić działanie trzech klasyfikatorów: `MultinomialNB`, `KNeighborsClassifier` i `RandomForestClassifier`, czyli odpowiednio naiwnego klasyfikatora bayesowskiego, klasyfikatora k-najbliższych sąsiadów oraz klasyfikatora wykorzystującego drzewa decyzyjne."
   ],
   "metadata": {
    "collapsed": false
   }
  },
  {
   "cell_type": "markdown",
   "source": [
    "Funkcja wykorzystująca podany klasyfikator, przewidująca jakiej płci jest użytkownik, na podstawie wybranego tekstu."
   ],
   "metadata": {
    "collapsed": false
   }
  },
  {
   "cell_type": "code",
   "execution_count": null,
   "outputs": [],
   "source": [
    "def predict_for_set(data_set, text, clf):\n",
    "    X = data_set[[text]]\n",
    "    y = data_set[['gender']]\n",
    "    X_train, X_test, y_train, y_test = train_test_split(X, y, test_size=0.2)\n",
    "\n",
    "    count_vect = CountVectorizer()\n",
    "    X_train_vect = count_vect.fit_transform(X_train.iloc[:, 0])\n",
    "    X_test_vect = count_vect.transform(X_test.iloc[:, 0])\n",
    "\n",
    "    \n",
    "    tfidf_transformer = TfidfTransformer()\n",
    "    X_train_tfidf = tfidf_transformer.fit_transform(X_train_vect)\n",
    "    X_test_tfidf = tfidf_transformer.fit_transform(X_test_vect)\n",
    "\n",
    "    t_start=time.time()\n",
    "    \n",
    "    alg = clf.fit(X_train_tfidf, y_train)\n",
    "\n",
    "    t_pred = round(time.time() - t_start, 3)\n",
    "    \n",
    "    y_pred = alg.predict(X_test_tfidf)\n",
    "    \n",
    "    y_pred_tr = alg.predict(X_train_tfidf)\n",
    "\n",
    "    accuracy = metrics.accuracy_score(y_test, y_pred)\n",
    "    \n",
    "    return accuracy, t_pred"
   ],
   "metadata": {
    "collapsed": false,
    "pycharm": {
     "name": "#%%\n"
    }
   }
  },
  {
   "cell_type": "markdown",
   "source": [
    "Porównanie klasyfikatorów i różnych tekstów."
   ],
   "metadata": {
    "collapsed": false
   }
  },
  {
   "cell_type": "code",
   "execution_count": null,
   "outputs": [],
   "source": [
    "clf_m = MultinomialNB()\n",
    "clf_k = KNeighborsClassifier()\n",
    "clf_r = RandomForestClassifier()\n",
    "\n",
    "clf_list = [clf_m, \n",
    "            clf_k, \n",
    "            clf_r]\n",
    "\n",
    "clf_names_list = ['MultinomialNB', \n",
    "                  'KNeighborsClassifier', \n",
    "                  'RandomForestClassifier']\n",
    "\n",
    "texts_list = ['text_norm', \n",
    "              'description_norm', \n",
    "              'all_text']\n",
    "\n",
    "data = {'Klasyfikator':[], \n",
    "        'Kolumna z tekstem':[], \n",
    "        'Dokładność':[], \n",
    "        'Czas':[]}\n",
    "\n",
    "for i in range(len(clf_list)):\n",
    "    for text_name in texts_list:\n",
    "        res = predict_for_set(df, text_name, clf_list[i])\n",
    "        data['Klasyfikator'].append(clf_names_list[i])\n",
    "        data['Kolumna z tekstem'].append(text_name)\n",
    "        data['Dokładność'].append(res[0])\n",
    "        data['Czas'].append(res[1])\n",
    "        \n",
    "clf_df = pd.DataFrame(data=data)\n",
    "clf_df"
   ],
   "metadata": {
    "collapsed": false,
    "pycharm": {
     "name": "#%%\n"
    }
   }
  },
  {
   "cell_type": "markdown",
   "source": [
    "Wykres przedstawiający dokładność i czas trenowania w zależności od wybranego klasyfikatora i tekstu."
   ],
   "metadata": {
    "collapsed": false
   }
  },
  {
   "cell_type": "code",
   "execution_count": null,
   "outputs": [],
   "source": [
    "clf_df.sort_values(by='Dokładność').plot.barh()"
   ],
   "metadata": {
    "collapsed": false,
    "pycharm": {
     "name": "#%%\n"
    }
   }
  },
  {
   "cell_type": "markdown",
   "source": [
    "Na podstawnie wykresu widać, że najlepsze efekty daje klasyfikator `MultinomialNB` z wykorzystaniem kolumny `description_norm`, czyli samego opisu.\t"
   ],
   "metadata": {
    "collapsed": false
   }
  },
  {
   "cell_type": "code",
   "execution_count": null,
   "outputs": [],
   "source": [
    "def predict_for_set_and_draw(data_set, text, clf):\n",
    "    X = data_set[[text]]\n",
    "    y = data_set[['gender']]\n",
    "    X_train, X_test, y_train, y_test = train_test_split(X, y, test_size=0.2)\n",
    "\n",
    "    count_vect = CountVectorizer()\n",
    "    X_train_vect = count_vect.fit_transform(X_train.iloc[:, 0])\n",
    "    X_test_vect = count_vect.transform(X_test.iloc[:, 0])\n",
    "\n",
    "    \n",
    "    tfidf_transformer = TfidfTransformer()\n",
    "    X_train_tfidf = tfidf_transformer.fit_transform(X_train_vect)\n",
    "    X_test_tfidf = tfidf_transformer.fit_transform(X_test_vect)\n",
    "    \n",
    "    alg = clf.fit(X_train_tfidf, y_train)\n",
    "    \n",
    "    y_pred = alg.predict(X_test_tfidf)\n",
    "    \n",
    "    y_pred_tr = alg.predict(X_train_tfidf)\n",
    "    \n",
    "    print(\"Accuracy dla zbioru testowego: \")\n",
    "    print(metrics.accuracy_score(y_test, y_pred), \"\\n\")\n",
    "    print(\"Accuracy dla zbioru uczącego: \")\n",
    "    print(metrics.accuracy_score(y_train, y_pred_tr), \"\\n\")\n",
    "    \n",
    "    #print(\"Macierz pomyłek dla zbioru uczącego\")\n",
    "    #print(pd.crosstab(y_train.to_numpy().transpose()[0], y_pred_tr)) \n",
    "    #sns.heatmap(pd.crosstab(y_train.to_numpy().transpose()[0], y_pred_tr),\n",
    "    #        cmap=\"YlGnBu\", annot=True, cbar=False)\n",
    "    \n",
    "    print(\"Macierz pomyłek dla zbioru testowego\")\n",
    "    print(pd.crosstab(y_test.to_numpy().transpose()[0], y_pred)) \n",
    "    sns.heatmap(pd.crosstab(y_test.to_numpy().transpose()[0], y_pred),\n",
    "            cmap=\"YlGnBu\", annot=True, cbar=False)"
   ],
   "metadata": {
    "collapsed": false,
    "pycharm": {
     "name": "#%%\n"
    }
   }
  },
  {
   "cell_type": "markdown",
   "source": [
    "Przewidywanie płci na podstawie opisu"
   ],
   "metadata": {
    "collapsed": false
   }
  },
  {
   "cell_type": "code",
   "execution_count": null,
   "outputs": [],
   "source": [
    "predict_for_set_and_draw(df, 'description_norm', clf_m)"
   ],
   "metadata": {
    "collapsed": false,
    "pycharm": {
     "name": "#%%\n"
    }
   }
  },
  {
   "cell_type": "markdown",
   "source": [
    "Na podstawnie macierzy pomyłek widać, że klasyfikator poprawnie rozpoznaje firmy, problem ma z rozróżnieniem kobiet i mężczyzn."
   ],
   "metadata": {
    "collapsed": false
   }
  },
  {
   "cell_type": "markdown",
   "source": [
    "## Podsumowanie"
   ],
   "metadata": {
    "collapsed": false
   }
  },
  {
   "cell_type": "markdown",
   "source": [
    "Problemem postawionym podczas tego projektu było rozpoznawanie płci użytkowników Twittera. Udało nam się rozpoznawać płeć z dokładnością około __67%__. Wynik ten mógłbybyć poprawiony prawdopodocnie poprzez dodanie większej ilości atrybutów lub zastosowanie bardziej złożonych obliczeniowo algorytmów."
   ],
   "metadata": {
    "collapsed": false
   }
  }
 ],
 "metadata": {
  "kernelspec": {
   "display_name": "Python 3",
   "language": "python",
   "name": "python3"
  },
  "language_info": {
   "codemirror_mode": {
    "name": "ipython",
    "version": 3
   },
   "file_extension": ".py",
   "mimetype": "text/x-python",
   "name": "python",
   "nbconvert_exporter": "python",
   "pygments_lexer": "ipython3",
   "version": "3.7.3"
  },
  "pycharm": {
   "stem_cell": {
    "cell_type": "raw",
    "source": [],
    "metadata": {
     "collapsed": false
    }
   }
  }
 },
 "nbformat": 4,
 "nbformat_minor": 2
}