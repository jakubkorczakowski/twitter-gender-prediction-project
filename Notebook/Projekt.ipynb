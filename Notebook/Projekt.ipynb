{
 "cells": [
  {
   "cell_type": "markdown",
   "metadata": {},
   "source": [
    "# Projekt z przedmiotu Podstawy Reprezentacji i Analizy Danych"
   ]
  },
  {
   "cell_type": "markdown",
   "metadata": {},
   "source": [
    "## Temat Projektu - Twitter"
   ]
  },
  {
   "cell_type": "markdown",
   "metadata": {},
   "source": [
    "Projekt dotyczy zbioru danych z Twittera, zawierającego profile i przykładowe tweety użytkowników. Celem naszego projektu jest analiza podanego zbioru danych i próba przewidzenia płci (lub przynależności do firmy) użytkownika na jego podstawie."
   ]
  },
  {
   "cell_type": "code",
   "execution_count": 124,
   "metadata": {
    "pycharm": {
     "is_executing": false
    }
   },
   "outputs": [
    {
     "name": "stderr",
     "output_type": "stream",
     "text": [
      "[nltk_data] Downloading package punkt to\n",
      "[nltk_data]     /home/jakubkorczakowski/nltk_data...\n",
      "[nltk_data]   Package punkt is already up-to-date!\n",
      "[nltk_data] Downloading package stopwords to\n",
      "[nltk_data]     /home/jakubkorczakowski/nltk_data...\n",
      "[nltk_data]   Package stopwords is already up-to-date!\n",
      "[nltk_data] Downloading package wordnet to\n",
      "[nltk_data]     /home/jakubkorczakowski/nltk_data...\n",
      "[nltk_data]   Package wordnet is already up-to-date!\n"
     ]
    }
   ],
   "source": [
    "import numpy as np\n",
    "import pandas as pd\n",
    "import seaborn as sns\n",
    "import matplotlib.pyplot as plt\n",
    "# zmiana sposobu wyświetlania danych typu float\n",
    "pd.options.display.float_format = \"{:.2f}\".format\n",
    "\n",
    "import re\n",
    "import time\n",
    "import collections\n",
    "\n",
    "from sklearn import metrics\n",
    "from sklearn.model_selection import train_test_split\n",
    "from sklearn.feature_extraction.text import CountVectorizer\n",
    "from sklearn.feature_extraction.text import TfidfTransformer\n",
    "\n",
    "from sklearn.naive_bayes import MultinomialNB\n",
    "from sklearn.neighbors import KNeighborsClassifier\n",
    "from sklearn.neighbors import NearestCentroid\n",
    "from sklearn.ensemble import RandomForestClassifier\n",
    "\n",
    "import nltk\n",
    "nltk.download('punkt')\n",
    "nltk.download('stopwords')\n",
    "nltk.download('wordnet')\n",
    "from nltk.tokenize import word_tokenize\n",
    "from nltk.corpus import stopwords\n",
    "from nltk.stem import SnowballStemmer\n",
    "from nltk.tokenize import word_tokenize "
   ]
  },
  {
   "cell_type": "markdown",
   "metadata": {},
   "source": [
    "## Opis zbioru danych"
   ]
  },
  {
   "cell_type": "markdown",
   "metadata": {},
   "source": [
    "Zbiór danych składa się z kilkunastu kolumn z danymi. Są to:\n",
    "1. __\\_unit_id__: unikalne id użytkownika\n",
    "2. __\\_golden__: czy użytkownik znajduje się w złotym standardzie dla modelu; TRUE lub FALSE\n",
    "3. __\\_unit_state__: stan obserwacji\n",
    "4. __\\_trusted_judgments__: liczba potwierdzonych osądów\n",
    "5. __\\_last_judgment_at__: data i godzina ostatniego potwierdzonego osądu\n",
    "6. __gender__: płeć lub przynależność do firmy, odpowiednio(male, female, lub brand (dla firm))\n",
    "7. __gender\\:confidence__: liczba rzeczywista z zakresu [0 , 1] odpowiadająca pewności osądu przynależności do płci lub firmy\n",
    "8. __profile_yn__: informacja czy dany profil był dostępny do osądu\n",
    "9. __profile_yn\\:confidence__: pewność czy dany profil istnieje czy nie\n",
    "10. __created__: data i czas utworzenia profilu\n",
    "11. __description__: opis profilu użytkownika\n",
    "12. __fav_number__: liczba twwetów, które użytkownik polubił\n",
    "13. __gender_gold__: jaka jest płeć, jeżeli profil znajduje się w złotym standardzie\n",
    "14. __link_color__: kolor linku w formacie hex\n",
    "15. __name__: nazwa użytkownika\n",
    "16. __profile_yn_gold__: czy pole __profile_yn__ należy do złotego standardu\n",
    "17. __profileimage__: link do zdjęcia profilowego\n",
    "18. __retweet_count__: ile razu użytkownik podał dalej tweeta\n",
    "19. __sidebar_color__: kolor paska bocznego jako wartość hex\n",
    "20. __text__: tekst jednego losowego tweetu użytkownika\n",
    "21. __tweet_coord__: pozycja geograficzna użytkownika, jeśli była dostępna, w postaci \"[szerokość geograficzna, długość geograficzna]\"\n",
    "22. __tweet_count__: liczba twwetów użytkownika\n",
    "23. __tweet_created__: kiedy tweet z kolumny __text__ został utworzony\n",
    "24. __tweet_id__: id losowego tweeta\n",
    "25. __tweet_location__: lokalizacja tweeta\n",
    "26. __user_timezone__: strefa czasowa użytkownika"
   ]
  },
  {
   "cell_type": "markdown",
   "metadata": {},
   "source": [
    "## Wczytanie danych"
   ]
  },
  {
   "cell_type": "markdown",
   "metadata": {},
   "source": [
    "Dane przechowywane są w pliku csv o nazwie __gender-classifier-DFE-791531.csv__. Za pomocą pakietu pandas wczytaliśmy je do naszego skryptu. Zdecydowaliśmy się na wybór kolumn 6,7, 11, 12, 14, 15, 18, 19, 20, 22, ponieważ inne kolumny zawierają informacje nieprzydatne dla naszego problemu."
   ]
  },
  {
   "cell_type": "code",
   "execution_count": 125,
   "metadata": {},
   "outputs": [
    {
     "data": {
      "text/html": [
       "<div>\n",
       "<style scoped>\n",
       "    .dataframe tbody tr th:only-of-type {\n",
       "        vertical-align: middle;\n",
       "    }\n",
       "\n",
       "    .dataframe tbody tr th {\n",
       "        vertical-align: top;\n",
       "    }\n",
       "\n",
       "    .dataframe thead th {\n",
       "        text-align: right;\n",
       "    }\n",
       "</style>\n",
       "<table border=\"1\" class=\"dataframe\">\n",
       "  <thead>\n",
       "    <tr style=\"text-align: right;\">\n",
       "      <th></th>\n",
       "      <th>gender</th>\n",
       "      <th>gender:confidence</th>\n",
       "      <th>description</th>\n",
       "      <th>fav_number</th>\n",
       "      <th>link_color</th>\n",
       "      <th>name</th>\n",
       "      <th>retweet_count</th>\n",
       "      <th>sidebar_color</th>\n",
       "      <th>text</th>\n",
       "      <th>tweet_count</th>\n",
       "    </tr>\n",
       "  </thead>\n",
       "  <tbody>\n",
       "    <tr>\n",
       "      <th>0</th>\n",
       "      <td>male</td>\n",
       "      <td>1.00</td>\n",
       "      <td>i sing my own rhythm.</td>\n",
       "      <td>0</td>\n",
       "      <td>08C2C2</td>\n",
       "      <td>sheezy0</td>\n",
       "      <td>0</td>\n",
       "      <td>FFFFFF</td>\n",
       "      <td>Robbie E Responds To Critics After Win Against...</td>\n",
       "      <td>110964</td>\n",
       "    </tr>\n",
       "    <tr>\n",
       "      <th>1</th>\n",
       "      <td>male</td>\n",
       "      <td>1.00</td>\n",
       "      <td>I'm the author of novels filled with family dr...</td>\n",
       "      <td>68</td>\n",
       "      <td>0084B4</td>\n",
       "      <td>DavdBurnett</td>\n",
       "      <td>0</td>\n",
       "      <td>C0DEED</td>\n",
       "      <td>ÛÏIt felt like they were my friends and I was...</td>\n",
       "      <td>7471</td>\n",
       "    </tr>\n",
       "    <tr>\n",
       "      <th>2</th>\n",
       "      <td>male</td>\n",
       "      <td>0.66</td>\n",
       "      <td>louis whining and squealing and all</td>\n",
       "      <td>7696</td>\n",
       "      <td>ABB8C2</td>\n",
       "      <td>lwtprettylaugh</td>\n",
       "      <td>1</td>\n",
       "      <td>C0DEED</td>\n",
       "      <td>i absolutely adore when louis starts the songs...</td>\n",
       "      <td>5617</td>\n",
       "    </tr>\n",
       "    <tr>\n",
       "      <th>3</th>\n",
       "      <td>male</td>\n",
       "      <td>1.00</td>\n",
       "      <td>Mobile guy.  49ers, Shazam, Google, Kleiner Pe...</td>\n",
       "      <td>202</td>\n",
       "      <td>0084B4</td>\n",
       "      <td>douggarland</td>\n",
       "      <td>0</td>\n",
       "      <td>C0DEED</td>\n",
       "      <td>Hi @JordanSpieth - Looking at the url - do you...</td>\n",
       "      <td>1693</td>\n",
       "    </tr>\n",
       "    <tr>\n",
       "      <th>4</th>\n",
       "      <td>female</td>\n",
       "      <td>1.00</td>\n",
       "      <td>Ricky Wilson The Best FRONTMAN/Kaiser Chiefs T...</td>\n",
       "      <td>37318</td>\n",
       "      <td>3B94D9</td>\n",
       "      <td>WilfordGemma</td>\n",
       "      <td>0</td>\n",
       "      <td>0</td>\n",
       "      <td>Watching Neighbours on Sky+ catching up with t...</td>\n",
       "      <td>31462</td>\n",
       "    </tr>\n",
       "  </tbody>\n",
       "</table>\n",
       "</div>"
      ],
      "text/plain": [
       "   gender  gender:confidence  \\\n",
       "0    male               1.00   \n",
       "1    male               1.00   \n",
       "2    male               0.66   \n",
       "3    male               1.00   \n",
       "4  female               1.00   \n",
       "\n",
       "                                         description  fav_number link_color  \\\n",
       "0                              i sing my own rhythm.           0     08C2C2   \n",
       "1  I'm the author of novels filled with family dr...          68     0084B4   \n",
       "2                louis whining and squealing and all        7696     ABB8C2   \n",
       "3  Mobile guy.  49ers, Shazam, Google, Kleiner Pe...         202     0084B4   \n",
       "4  Ricky Wilson The Best FRONTMAN/Kaiser Chiefs T...       37318     3B94D9   \n",
       "\n",
       "             name  retweet_count sidebar_color  \\\n",
       "0         sheezy0              0        FFFFFF   \n",
       "1     DavdBurnett              0        C0DEED   \n",
       "2  lwtprettylaugh              1        C0DEED   \n",
       "3     douggarland              0        C0DEED   \n",
       "4    WilfordGemma              0             0   \n",
       "\n",
       "                                                text  tweet_count  \n",
       "0  Robbie E Responds To Critics After Win Against...       110964  \n",
       "1  ÛÏIt felt like they were my friends and I was...         7471  \n",
       "2  i absolutely adore when louis starts the songs...         5617  \n",
       "3  Hi @JordanSpieth - Looking at the url - do you...         1693  \n",
       "4  Watching Neighbours on Sky+ catching up with t...        31462  "
      ]
     },
     "execution_count": 125,
     "metadata": {},
     "output_type": "execute_result"
    }
   ],
   "source": [
    "df = pd.read_csv(\"../Data/gender-classifier-DFE-791531.csv\", \n",
    "                 encoding = \"latin1\", \n",
    "                 engine='python', \n",
    "                 usecols=[5, 6, 10, 11, 13, 14, 17, 18, 19, 21])\n",
    "df.head()"
   ]
  },
  {
   "cell_type": "markdown",
   "metadata": {},
   "source": [
    "We wczytanym zbiorze danych znajduje się 20050 obiektów. Posiadają one 10 atrybutów, z których 6 jest typu `object`, 3 są typu `int64` i 1 typu `float64`. "
   ]
  },
  {
   "cell_type": "code",
   "execution_count": 126,
   "metadata": {},
   "outputs": [
    {
     "name": "stdout",
     "output_type": "stream",
     "text": [
      "<class 'pandas.core.frame.DataFrame'>\n",
      "RangeIndex: 20050 entries, 0 to 20049\n",
      "Data columns (total 10 columns):\n",
      "gender               19953 non-null object\n",
      "gender:confidence    20024 non-null float64\n",
      "description          16306 non-null object\n",
      "fav_number           20050 non-null int64\n",
      "link_color           20050 non-null object\n",
      "name                 20050 non-null object\n",
      "retweet_count        20050 non-null int64\n",
      "sidebar_color        20050 non-null object\n",
      "text                 20050 non-null object\n",
      "tweet_count          20050 non-null int64\n",
      "dtypes: float64(1), int64(3), object(6)\n",
      "memory usage: 1.5+ MB\n"
     ]
    }
   ],
   "source": [
    "df.info()"
   ]
  },
  {
   "cell_type": "markdown",
   "metadata": {},
   "source": [
    "W zbiorze danych występują braki. Najwięcej wartości nieznanych jest w kolumnie `description`, która zawiera opis profilu użytkownika."
   ]
  },
  {
   "cell_type": "code",
   "execution_count": 127,
   "metadata": {},
   "outputs": [
    {
     "data": {
      "text/plain": [
       "gender                 97\n",
       "gender:confidence      26\n",
       "description          3744\n",
       "fav_number              0\n",
       "link_color              0\n",
       "name                    0\n",
       "retweet_count           0\n",
       "sidebar_color           0\n",
       "text                    0\n",
       "tweet_count             0\n",
       "dtype: int64"
      ]
     },
     "execution_count": 127,
     "metadata": {},
     "output_type": "execute_result"
    }
   ],
   "source": [
    "df.isna().sum(axis=0)"
   ]
  },
  {
   "cell_type": "markdown",
   "metadata": {},
   "source": [
    "## Czyszczenie danych"
   ]
  },
  {
   "cell_type": "markdown",
   "metadata": {},
   "source": [
    "Kolumna `gender:confidence` zawiera pewność osądzenia płci użytkownika, przyjmuje ona wartości od 0 do 1. Do dalszej analizy usuniemy obiekty z pewnością mniejszą niż __0.9__ lub nieznaną, ze względu na ich małą wiarygodność."
   ]
  },
  {
   "cell_type": "code",
   "execution_count": 128,
   "metadata": {},
   "outputs": [
    {
     "data": {
      "text/html": [
       "<div>\n",
       "<style scoped>\n",
       "    .dataframe tbody tr th:only-of-type {\n",
       "        vertical-align: middle;\n",
       "    }\n",
       "\n",
       "    .dataframe tbody tr th {\n",
       "        vertical-align: top;\n",
       "    }\n",
       "\n",
       "    .dataframe thead th {\n",
       "        text-align: right;\n",
       "    }\n",
       "</style>\n",
       "<table border=\"1\" class=\"dataframe\">\n",
       "  <thead>\n",
       "    <tr style=\"text-align: right;\">\n",
       "      <th></th>\n",
       "      <th>gender</th>\n",
       "      <th>gender:confidence</th>\n",
       "      <th>description</th>\n",
       "      <th>fav_number</th>\n",
       "      <th>link_color</th>\n",
       "      <th>name</th>\n",
       "      <th>retweet_count</th>\n",
       "      <th>sidebar_color</th>\n",
       "      <th>text</th>\n",
       "      <th>tweet_count</th>\n",
       "    </tr>\n",
       "  </thead>\n",
       "  <tbody>\n",
       "    <tr>\n",
       "      <th>0</th>\n",
       "      <td>male</td>\n",
       "      <td>1.00</td>\n",
       "      <td>i sing my own rhythm.</td>\n",
       "      <td>0.00</td>\n",
       "      <td>08C2C2</td>\n",
       "      <td>sheezy0</td>\n",
       "      <td>0.00</td>\n",
       "      <td>FFFFFF</td>\n",
       "      <td>Robbie E Responds To Critics After Win Against...</td>\n",
       "      <td>110964.00</td>\n",
       "    </tr>\n",
       "    <tr>\n",
       "      <th>1</th>\n",
       "      <td>male</td>\n",
       "      <td>1.00</td>\n",
       "      <td>I'm the author of novels filled with family dr...</td>\n",
       "      <td>68.00</td>\n",
       "      <td>0084B4</td>\n",
       "      <td>DavdBurnett</td>\n",
       "      <td>0.00</td>\n",
       "      <td>C0DEED</td>\n",
       "      <td>ÛÏIt felt like they were my friends and I was...</td>\n",
       "      <td>7471.00</td>\n",
       "    </tr>\n",
       "    <tr>\n",
       "      <th>3</th>\n",
       "      <td>male</td>\n",
       "      <td>1.00</td>\n",
       "      <td>Mobile guy.  49ers, Shazam, Google, Kleiner Pe...</td>\n",
       "      <td>202.00</td>\n",
       "      <td>0084B4</td>\n",
       "      <td>douggarland</td>\n",
       "      <td>0.00</td>\n",
       "      <td>C0DEED</td>\n",
       "      <td>Hi @JordanSpieth - Looking at the url - do you...</td>\n",
       "      <td>1693.00</td>\n",
       "    </tr>\n",
       "    <tr>\n",
       "      <th>4</th>\n",
       "      <td>female</td>\n",
       "      <td>1.00</td>\n",
       "      <td>Ricky Wilson The Best FRONTMAN/Kaiser Chiefs T...</td>\n",
       "      <td>37318.00</td>\n",
       "      <td>3B94D9</td>\n",
       "      <td>WilfordGemma</td>\n",
       "      <td>0.00</td>\n",
       "      <td>0</td>\n",
       "      <td>Watching Neighbours on Sky+ catching up with t...</td>\n",
       "      <td>31462.00</td>\n",
       "    </tr>\n",
       "    <tr>\n",
       "      <th>5</th>\n",
       "      <td>female</td>\n",
       "      <td>1.00</td>\n",
       "      <td>you don't know me.</td>\n",
       "      <td>3901.00</td>\n",
       "      <td>F5ABB5</td>\n",
       "      <td>monroevicious</td>\n",
       "      <td>0.00</td>\n",
       "      <td>0</td>\n",
       "      <td>Ive seen people on the train with lamps, chair...</td>\n",
       "      <td>20036.00</td>\n",
       "    </tr>\n",
       "  </tbody>\n",
       "</table>\n",
       "</div>"
      ],
      "text/plain": [
       "   gender  gender:confidence  \\\n",
       "0    male               1.00   \n",
       "1    male               1.00   \n",
       "3    male               1.00   \n",
       "4  female               1.00   \n",
       "5  female               1.00   \n",
       "\n",
       "                                         description  fav_number link_color  \\\n",
       "0                              i sing my own rhythm.        0.00     08C2C2   \n",
       "1  I'm the author of novels filled with family dr...       68.00     0084B4   \n",
       "3  Mobile guy.  49ers, Shazam, Google, Kleiner Pe...      202.00     0084B4   \n",
       "4  Ricky Wilson The Best FRONTMAN/Kaiser Chiefs T...    37318.00     3B94D9   \n",
       "5                                 you don't know me.     3901.00     F5ABB5   \n",
       "\n",
       "            name  retweet_count sidebar_color  \\\n",
       "0        sheezy0           0.00        FFFFFF   \n",
       "1    DavdBurnett           0.00        C0DEED   \n",
       "3    douggarland           0.00        C0DEED   \n",
       "4   WilfordGemma           0.00             0   \n",
       "5  monroevicious           0.00             0   \n",
       "\n",
       "                                                text  tweet_count  \n",
       "0  Robbie E Responds To Critics After Win Against...    110964.00  \n",
       "1  ÛÏIt felt like they were my friends and I was...      7471.00  \n",
       "3  Hi @JordanSpieth - Looking at the url - do you...      1693.00  \n",
       "4  Watching Neighbours on Sky+ catching up with t...     31462.00  \n",
       "5  Ive seen people on the train with lamps, chair...     20036.00  "
      ]
     },
     "execution_count": 128,
     "metadata": {},
     "output_type": "execute_result"
    }
   ],
   "source": [
    "df = df.where((df['gender:confidence'] > 0.9) & (df['gender'] != 'unknown')).dropna()\n",
    "df.head()"
   ]
  },
  {
   "cell_type": "markdown",
   "metadata": {},
   "source": [
    "Po usunięciu wyżej wspomnianych obiektów w zbiorze danych pozostało 11779 wierszy. Nie ma w nich już braków."
   ]
  },
  {
   "cell_type": "code",
   "execution_count": 129,
   "metadata": {},
   "outputs": [
    {
     "name": "stdout",
     "output_type": "stream",
     "text": [
      "<class 'pandas.core.frame.DataFrame'>\n",
      "Int64Index: 11779 entries, 0 to 20049\n",
      "Data columns (total 10 columns):\n",
      "gender               11779 non-null object\n",
      "gender:confidence    11779 non-null float64\n",
      "description          11779 non-null object\n",
      "fav_number           11779 non-null float64\n",
      "link_color           11779 non-null object\n",
      "name                 11779 non-null object\n",
      "retweet_count        11779 non-null float64\n",
      "sidebar_color        11779 non-null object\n",
      "text                 11779 non-null object\n",
      "tweet_count          11779 non-null float64\n",
      "dtypes: float64(4), object(6)\n",
      "memory usage: 1012.3+ KB\n"
     ]
    }
   ],
   "source": [
    "df.info()"
   ]
  },
  {
   "cell_type": "markdown",
   "metadata": {},
   "source": [
    "Po wykonaniu redukcji można usunąć kolumnę `gender:confidence`, ponieważ nie będzie nam ona potrzebna w dalszej analizie."
   ]
  },
  {
   "cell_type": "code",
   "execution_count": 130,
   "metadata": {},
   "outputs": [],
   "source": [
    "df = df.drop(columns=['gender:confidence'])"
   ]
  },
  {
   "cell_type": "markdown",
   "metadata": {},
   "source": [
    "## Przekształcenie kolumn zawierających kolory"
   ]
  },
  {
   "cell_type": "markdown",
   "metadata": {},
   "source": [
    "W zbiorze danych są dwie kolumny zawierające informacje o kolorach. Są to: `link_color` oraz `sidebar_color`. Kolory są w nich zapisane heksadecymalnie. W celu użycia kolorów podczas klasyfikacji trzeba przekonwertować je do postaci RGB."
   ]
  },
  {
   "cell_type": "markdown",
   "metadata": {},
   "source": [
    "W kolumnach opisujących kolor występują wartości `9999` oraz `0`. Nie są one w formacie heksadecymalnym, więc należy je na niego zamienić."
   ]
  },
  {
   "cell_type": "code",
   "execution_count": 131,
   "metadata": {},
   "outputs": [],
   "source": [
    "df.link_color = df.link_color.replace(['9999', '0'], '000000')\n",
    "df.sidebar_color = df.sidebar_color.replace(['9999', '0'], '000000')"
   ]
  },
  {
   "cell_type": "markdown",
   "metadata": {},
   "source": [
    "Funkcja `hexToRGB` dokonuje konwersji liczby zapisanej w formacie heksadecymalnym na postać RGB."
   ]
  },
  {
   "cell_type": "code",
   "execution_count": 132,
   "metadata": {},
   "outputs": [],
   "source": [
    "def hexToRGB(color):\n",
    "    if color == '0':\n",
    "        return 255, 255, 255\n",
    "    if len(color)<5:\n",
    "        return 255, 255, 255\n",
    "    try:\n",
    "        color = color.replace(\".\", \"\")\n",
    "        color = color.replace(\"+\", \"\")\n",
    "        r=int(color[0:2],16)\n",
    "        g=int(color[2:4],16)\n",
    "        b=int(color[4:6],16)\n",
    "    except (RuntimeError, TypeError, NameError, ValueError):\n",
    "        return None, None, None\n",
    "    else:\n",
    "        return r,g,b "
   ]
  },
  {
   "cell_type": "markdown",
   "metadata": {},
   "source": [
    "Dodanie kolumn z wartościami RGB kolorów w kolumnach `link_color` i `sidebar_color`."
   ]
  },
  {
   "cell_type": "code",
   "execution_count": 133,
   "metadata": {},
   "outputs": [
    {
     "data": {
      "text/html": [
       "<div>\n",
       "<style scoped>\n",
       "    .dataframe tbody tr th:only-of-type {\n",
       "        vertical-align: middle;\n",
       "    }\n",
       "\n",
       "    .dataframe tbody tr th {\n",
       "        vertical-align: top;\n",
       "    }\n",
       "\n",
       "    .dataframe thead th {\n",
       "        text-align: right;\n",
       "    }\n",
       "</style>\n",
       "<table border=\"1\" class=\"dataframe\">\n",
       "  <thead>\n",
       "    <tr style=\"text-align: right;\">\n",
       "      <th></th>\n",
       "      <th>link_color</th>\n",
       "      <th>sidebar_color</th>\n",
       "      <th>link_color_R</th>\n",
       "      <th>link_color_G</th>\n",
       "      <th>link_color_B</th>\n",
       "      <th>sidebar_color_R</th>\n",
       "      <th>sidebar_color_G</th>\n",
       "      <th>sidebar_color_B</th>\n",
       "    </tr>\n",
       "  </thead>\n",
       "  <tbody>\n",
       "    <tr>\n",
       "      <th>0</th>\n",
       "      <td>08C2C2</td>\n",
       "      <td>FFFFFF</td>\n",
       "      <td>8.00</td>\n",
       "      <td>194.00</td>\n",
       "      <td>194.00</td>\n",
       "      <td>255</td>\n",
       "      <td>255</td>\n",
       "      <td>255</td>\n",
       "    </tr>\n",
       "    <tr>\n",
       "      <th>1</th>\n",
       "      <td>0084B4</td>\n",
       "      <td>C0DEED</td>\n",
       "      <td>0.00</td>\n",
       "      <td>132.00</td>\n",
       "      <td>180.00</td>\n",
       "      <td>192</td>\n",
       "      <td>222</td>\n",
       "      <td>237</td>\n",
       "    </tr>\n",
       "    <tr>\n",
       "      <th>3</th>\n",
       "      <td>0084B4</td>\n",
       "      <td>C0DEED</td>\n",
       "      <td>0.00</td>\n",
       "      <td>132.00</td>\n",
       "      <td>180.00</td>\n",
       "      <td>192</td>\n",
       "      <td>222</td>\n",
       "      <td>237</td>\n",
       "    </tr>\n",
       "    <tr>\n",
       "      <th>4</th>\n",
       "      <td>3B94D9</td>\n",
       "      <td>000000</td>\n",
       "      <td>59.00</td>\n",
       "      <td>148.00</td>\n",
       "      <td>217.00</td>\n",
       "      <td>0</td>\n",
       "      <td>0</td>\n",
       "      <td>0</td>\n",
       "    </tr>\n",
       "    <tr>\n",
       "      <th>5</th>\n",
       "      <td>F5ABB5</td>\n",
       "      <td>000000</td>\n",
       "      <td>245.00</td>\n",
       "      <td>171.00</td>\n",
       "      <td>181.00</td>\n",
       "      <td>0</td>\n",
       "      <td>0</td>\n",
       "      <td>0</td>\n",
       "    </tr>\n",
       "  </tbody>\n",
       "</table>\n",
       "</div>"
      ],
      "text/plain": [
       "  link_color sidebar_color  link_color_R  link_color_G  link_color_B  \\\n",
       "0     08C2C2        FFFFFF          8.00        194.00        194.00   \n",
       "1     0084B4        C0DEED          0.00        132.00        180.00   \n",
       "3     0084B4        C0DEED          0.00        132.00        180.00   \n",
       "4     3B94D9        000000         59.00        148.00        217.00   \n",
       "5     F5ABB5        000000        245.00        171.00        181.00   \n",
       "\n",
       "   sidebar_color_R  sidebar_color_G  sidebar_color_B  \n",
       "0              255              255              255  \n",
       "1              192              222              237  \n",
       "3              192              222              237  \n",
       "4                0                0                0  \n",
       "5                0                0                0  "
      ]
     },
     "execution_count": 133,
     "metadata": {},
     "output_type": "execute_result"
    }
   ],
   "source": [
    "df[\"link_color_R\"] = df[\"link_color\"].apply(lambda x: hexToRGB(str(x))[0])\n",
    "df[\"link_color_G\"] = df[\"link_color\"].apply(lambda x: hexToRGB(str(x))[1])\n",
    "df[\"link_color_B\"] = df[\"link_color\"].apply(lambda x: hexToRGB(str(x))[2])\n",
    "\n",
    "df[\"sidebar_color_R\"] = df[\"sidebar_color\"].apply(lambda x: hexToRGB(str(x))[0])\n",
    "df[\"sidebar_color_G\"] = df[\"sidebar_color\"].apply(lambda x: hexToRGB(str(x))[1])\n",
    "df[\"sidebar_color_B\"] = df[\"sidebar_color\"].apply(lambda x: hexToRGB(str(x))[2])\n",
    "\n",
    "df = df.dropna()\n",
    "df.loc[:, ['link_color', 'sidebar_color', 'link_color_R', 'link_color_G', 'link_color_B', 'sidebar_color_R', 'sidebar_color_G', 'sidebar_color_B']].head()"
   ]
  },
  {
   "cell_type": "markdown",
   "metadata": {},
   "source": [
    "## Wykresy przedstawiające najczęściej używane kolory"
   ]
  },
  {
   "cell_type": "code",
   "execution_count": 134,
   "metadata": {},
   "outputs": [
    {
     "data": {
      "text/plain": [
       "Text(0.5, 1.0, 'Most used link colors by men')"
      ]
     },
     "execution_count": 134,
     "metadata": {},
     "output_type": "execute_result"
    },
    {
     "data": {
      "image/png": "[encoded data removed]",
      "text/plain": [
       "<Figure size 432x288 with 1 Axes>"
      ]
     },
     "metadata": {},
     "output_type": "display_data"
    }
   ],
   "source": [
    "male_top_link_color = df[df['gender'] == 'male']['link_color'].value_counts().head(10)\n",
    "male_top_link_color_idx = male_top_link_color.index\n",
    "male_top_color = male_top_link_color_idx.values\n",
    "\n",
    "l = lambda x: '#'+x\n",
    "\n",
    "sns.set_style(\"darkgrid\", {\"axes.facecolor\": \"#E0D6D6\"})\n",
    "sns.barplot(x = male_top_link_color, y = male_top_color , palette=list(map(l, male_top_color))).set_title('Most used link colors by men')"
   ]
  },
  {
   "cell_type": "code",
   "execution_count": 135,
   "metadata": {},
   "outputs": [
    {
     "data": {
      "text/plain": [
       "Text(0.5, 1.0, 'Most used link colors by women')"
      ]
     },
     "execution_count": 135,
     "metadata": {},
     "output_type": "execute_result"
    },
    {
     "data": {
      "image/png": "[encoded data removed]",
      "text/plain": [
       "<Figure size 432x288 with 1 Axes>"
      ]
     },
     "metadata": {},
     "output_type": "display_data"
    }
   ],
   "source": [
    "female_top_link_color = df[df['gender'] == 'female']['link_color'].value_counts().head(10)\n",
    "female_top_link_color_idx = female_top_link_color.index\n",
    "female_top_color = female_top_link_color_idx.values\n",
    "\n",
    "l = lambda x: '#'+x\n",
    "\n",
    "sns.set_style(\"darkgrid\", {\"axes.facecolor\": \"#E0D6D6\"})\n",
    "sns.barplot (x = female_top_link_color, y = female_top_color , palette=list(map(l, female_top_color))).set_title('Most used link colors by women')"
   ]
  },
  {
   "cell_type": "code",
   "execution_count": 136,
   "metadata": {},
   "outputs": [
    {
     "data": {
      "text/plain": [
       "Text(0.5, 1.0, 'Most used link colors by brands')"
      ]
     },
     "execution_count": 136,
     "metadata": {},
     "output_type": "execute_result"
    },
    {
     "data": {
      "image/png": "[encoded data removed]",
      "text/plain": [
       "<Figure size 432x288 with 1 Axes>"
      ]
     },
     "metadata": {},
     "output_type": "display_data"
    }
   ],
   "source": [
    "brand_top_link_color = df[df['gender'] == 'brand']['link_color'].value_counts().head(10)\n",
    "brand_top_link_color_idx = brand_top_link_color.index\n",
    "brand_top_color = brand_top_link_color_idx.values\n",
    "\n",
    "l = lambda x: '#'+x\n",
    "\n",
    "sns.set_style(\"darkgrid\", {\"axes.facecolor\": \"#E0D6D6\"})\n",
    "sns.barplot (x = brand_top_link_color, y = brand_top_color , palette=list(map(l, brand_top_color))).set_title('Most used link colors by brands')"
   ]
  },
  {
   "cell_type": "markdown",
   "metadata": {},
   "source": [
    "Najczęściej wybieranym kolorem linku przez użytkowników Twittera jest kolor niebieski. W przypadku kolejnych kolorów kolejności występują różnicę. Drugim najczęściej wybieranym kolorem jest fioletowy dla kobiet, inny odcień niebieskiego dla mężczyzn oraz zielony dla firm. Ze względu na różnicę w wykresach, kolor linku jako atrybut może być przydatny."
   ]
  },
  {
   "cell_type": "code",
   "execution_count": 137,
   "metadata": {},
   "outputs": [
    {
     "data": {
      "text/plain": [
       "Text(0.5, 1.0, 'Most used sidebar colors by men')"
      ]
     },
     "execution_count": 137,
     "metadata": {},
     "output_type": "execute_result"
    },
    {
     "data": {
      "image/png": "[encoded data removed]",
      "text/plain": [
       "<Figure size 432x288 with 1 Axes>"
      ]
     },
     "metadata": {},
     "output_type": "display_data"
    }
   ],
   "source": [
    "male_top_sidebar_color = df[df['gender'] == 'male']['sidebar_color'].value_counts().head(10)\n",
    "male_top_sidebar_color_idx = male_top_sidebar_color.index\n",
    "male_top_color = male_top_sidebar_color_idx.values\n",
    "\n",
    "l = lambda x: '#'+x\n",
    "\n",
    "sns.set_style(\"darkgrid\", {\"axes.facecolor\": \"#E0D6D6\"})\n",
    "sns.barplot (x = male_top_sidebar_color, y = male_top_color , palette=list(map(l, male_top_color))).set_title('Most used sidebar colors by men')"
   ]
  },
  {
   "cell_type": "code",
   "execution_count": 138,
   "metadata": {},
   "outputs": [
    {
     "data": {
      "image/png": "[encoded data removed]",
      "text/plain": [
       "<Figure size 432x288 with 1 Axes>"
      ]
     },
     "metadata": {},
     "output_type": "display_data"
    }
   ],
   "source": [
    "female_top_sidebar_color = df[df['gender'] == 'female']['sidebar_color'].value_counts().head(10)\n",
    "female_top_sidebar_color_idx = female_top_sidebar_color.index\n",
    "female_top_color = female_top_sidebar_color_idx.values\n",
    "\n",
    "l = lambda x: '#'+x\n",
    "\n",
    "sns.set_style(\"darkgrid\", {\"axes.facecolor\": \"#E0D6D6\"})\n",
    "plot4 =sns.barplot (x = female_top_sidebar_color, y = female_top_color, palette=list(map(l, female_top_color))).set_title('Most used sidebar colors by women')"
   ]
  },
  {
   "cell_type": "code",
   "execution_count": 139,
   "metadata": {},
   "outputs": [
    {
     "data": {
      "text/plain": [
       "Text(0.5, 1.0, 'Most used sidebar colors by brands')"
      ]
     },
     "execution_count": 139,
     "metadata": {},
     "output_type": "execute_result"
    },
    {
     "data": {
      "image/png": "[encoded data removed]",
      "text/plain": [
       "<Figure size 432x288 with 1 Axes>"
      ]
     },
     "metadata": {},
     "output_type": "display_data"
    }
   ],
   "source": [
    "brand_top_sidebar_color = df[df['gender'] == 'brand']['sidebar_color'].value_counts().head(10)\n",
    "brand_top_sidebar_color_idx = brand_top_sidebar_color.index\n",
    "brand_top_color = brand_top_sidebar_color_idx.values\n",
    "\n",
    "l = lambda x: '#'+x\n",
    "\n",
    "sns.set_style(\"darkgrid\", {\"axes.facecolor\": \"#E0D6D6\"})\n",
    "sns.barplot (x = brand_top_sidebar_color, y = brand_top_color , palette=list(map(l, brand_top_color))).set_title('Most used sidebar colors by brands')"
   ]
  },
  {
   "cell_type": "markdown",
   "metadata": {},
   "source": [
    "Cztery najczęściej używane kolory paska bocznego są takie same dla mężczyzn, kobiet i firm. Są to niebieski, biały, czarny i szary. Ze względu na brak różnic między grupami, kolor paska bocznego nie będzie atrybutem przydatnym podczas decydowania o przynależności do grup."
   ]
  },
  {
   "cell_type": "markdown",
   "metadata": {},
   "source": [
    "## Wykresy przedstawiające dane z atrybutów ilościowych"
   ]
  },
  {
   "cell_type": "markdown",
   "metadata": {},
   "source": [
    "W zbiorze danych znajdują się 3 atrybuty ilościowe. Są to `fav_number`, `tweet_count`, `retweet_count`."
   ]
  },
  {
   "cell_type": "markdown",
   "metadata": {},
   "source": [
    "### Ilość polubień użytkownika"
   ]
  },
  {
   "cell_type": "code",
   "execution_count": 140,
   "metadata": {},
   "outputs": [
    {
     "data": {
      "text/html": [
       "<div>\n",
       "<style scoped>\n",
       "    .dataframe tbody tr th:only-of-type {\n",
       "        vertical-align: middle;\n",
       "    }\n",
       "\n",
       "    .dataframe tbody tr th {\n",
       "        vertical-align: top;\n",
       "    }\n",
       "\n",
       "    .dataframe thead th {\n",
       "        text-align: right;\n",
       "    }\n",
       "</style>\n",
       "<table border=\"1\" class=\"dataframe\">\n",
       "  <thead>\n",
       "    <tr style=\"text-align: right;\">\n",
       "      <th></th>\n",
       "      <th>fav_number</th>\n",
       "    </tr>\n",
       "    <tr>\n",
       "      <th>gender</th>\n",
       "      <th></th>\n",
       "    </tr>\n",
       "  </thead>\n",
       "  <tbody>\n",
       "    <tr>\n",
       "      <th>brand</th>\n",
       "      <td>2009.19</td>\n",
       "    </tr>\n",
       "    <tr>\n",
       "      <th>male</th>\n",
       "      <td>4801.83</td>\n",
       "    </tr>\n",
       "    <tr>\n",
       "      <th>female</th>\n",
       "      <td>6369.06</td>\n",
       "    </tr>\n",
       "  </tbody>\n",
       "</table>\n",
       "</div>"
      ],
      "text/plain": [
       "        fav_number\n",
       "gender            \n",
       "brand      2009.19\n",
       "male       4801.83\n",
       "female     6369.06"
      ]
     },
     "execution_count": 140,
     "metadata": {},
     "output_type": "execute_result"
    }
   ],
   "source": [
    "gfn_mean = (df.loc[:, ['gender', 'fav_number']]\n",
    "            .groupby('gender')\n",
    "            .mean()\n",
    "            .sort_values(by='fav_number'))\n",
    "gfn_mean"
   ]
  },
  {
   "cell_type": "code",
   "execution_count": 141,
   "metadata": {},
   "outputs": [
    {
     "data": {
      "text/plain": [
       "<matplotlib.axes._subplots.AxesSubplot at 0x7feb2490e710>"
      ]
     },
     "execution_count": 141,
     "metadata": {},
     "output_type": "execute_result"
    },
    {
     "data": {
      "image/png": "[encoded data removed]",
      "text/plain": [
       "<Figure size 432x288 with 1 Axes>"
      ]
     },
     "metadata": {},
     "output_type": "display_data"
    }
   ],
   "source": [
    "sns.set_style(\"whitegrid\", {\"axes.facecolor\": \"#FFFFFF\"})\n",
    "gfn_mean.plot.bar()"
   ]
  },
  {
   "cell_type": "markdown",
   "metadata": {},
   "source": [
    "### Ilość tweetów użytkownika"
   ]
  },
  {
   "cell_type": "code",
   "execution_count": 142,
   "metadata": {},
   "outputs": [
    {
     "data": {
      "text/html": [
       "<div>\n",
       "<style scoped>\n",
       "    .dataframe tbody tr th:only-of-type {\n",
       "        vertical-align: middle;\n",
       "    }\n",
       "\n",
       "    .dataframe tbody tr th {\n",
       "        vertical-align: top;\n",
       "    }\n",
       "\n",
       "    .dataframe thead th {\n",
       "        text-align: right;\n",
       "    }\n",
       "</style>\n",
       "<table border=\"1\" class=\"dataframe\">\n",
       "  <thead>\n",
       "    <tr style=\"text-align: right;\">\n",
       "      <th></th>\n",
       "      <th>tweet_count</th>\n",
       "    </tr>\n",
       "    <tr>\n",
       "      <th>gender</th>\n",
       "      <th></th>\n",
       "    </tr>\n",
       "  </thead>\n",
       "  <tbody>\n",
       "    <tr>\n",
       "      <th>female</th>\n",
       "      <td>26065.72</td>\n",
       "    </tr>\n",
       "    <tr>\n",
       "      <th>male</th>\n",
       "      <td>31268.01</td>\n",
       "    </tr>\n",
       "    <tr>\n",
       "      <th>brand</th>\n",
       "      <td>70313.51</td>\n",
       "    </tr>\n",
       "  </tbody>\n",
       "</table>\n",
       "</div>"
      ],
      "text/plain": [
       "        tweet_count\n",
       "gender             \n",
       "female     26065.72\n",
       "male       31268.01\n",
       "brand      70313.51"
      ]
     },
     "execution_count": 142,
     "metadata": {},
     "output_type": "execute_result"
    }
   ],
   "source": [
    "gtc_mean = (df.loc[:, ['gender', 'tweet_count']]\n",
    "            .groupby('gender')\n",
    "            .mean()\n",
    "            .sort_values(by='tweet_count'))\n",
    "gtc_mean"
   ]
  },
  {
   "cell_type": "code",
   "execution_count": 143,
   "metadata": {},
   "outputs": [
    {
     "data": {
      "text/plain": [
       "<matplotlib.axes._subplots.AxesSubplot at 0x7feb24c24dd8>"
      ]
     },
     "execution_count": 143,
     "metadata": {},
     "output_type": "execute_result"
    },
    {
     "data": {
      "image/png": "[encoded data removed]",
      "text/plain": [
       "<Figure size 432x288 with 1 Axes>"
      ]
     },
     "metadata": {},
     "output_type": "display_data"
    }
   ],
   "source": [
    "gtc_mean.plot.bar()"
   ]
  },
  {
   "cell_type": "markdown",
   "metadata": {},
   "source": [
    "### Ilość razy kiedy użytkownik podał tweet dalej"
   ]
  },
  {
   "cell_type": "code",
   "execution_count": 144,
   "metadata": {},
   "outputs": [
    {
     "data": {
      "text/html": [
       "<div>\n",
       "<style scoped>\n",
       "    .dataframe tbody tr th:only-of-type {\n",
       "        vertical-align: middle;\n",
       "    }\n",
       "\n",
       "    .dataframe tbody tr th {\n",
       "        vertical-align: top;\n",
       "    }\n",
       "\n",
       "    .dataframe thead th {\n",
       "        text-align: right;\n",
       "    }\n",
       "</style>\n",
       "<table border=\"1\" class=\"dataframe\">\n",
       "  <thead>\n",
       "    <tr style=\"text-align: right;\">\n",
       "      <th></th>\n",
       "      <th>retweet_count</th>\n",
       "    </tr>\n",
       "    <tr>\n",
       "      <th>gender</th>\n",
       "      <th></th>\n",
       "    </tr>\n",
       "  </thead>\n",
       "  <tbody>\n",
       "    <tr>\n",
       "      <th>female</th>\n",
       "      <td>0.03</td>\n",
       "    </tr>\n",
       "    <tr>\n",
       "      <th>brand</th>\n",
       "      <td>0.09</td>\n",
       "    </tr>\n",
       "    <tr>\n",
       "      <th>male</th>\n",
       "      <td>0.12</td>\n",
       "    </tr>\n",
       "  </tbody>\n",
       "</table>\n",
       "</div>"
      ],
      "text/plain": [
       "        retweet_count\n",
       "gender               \n",
       "female           0.03\n",
       "brand            0.09\n",
       "male             0.12"
      ]
     },
     "execution_count": 144,
     "metadata": {},
     "output_type": "execute_result"
    }
   ],
   "source": [
    "grc_mean = (df.loc[:, ['gender', 'retweet_count']]\n",
    "            .groupby('gender')\n",
    "            .mean()\n",
    "            .sort_values(by='retweet_count'))\n",
    "grc_mean"
   ]
  },
  {
   "cell_type": "code",
   "execution_count": 145,
   "metadata": {},
   "outputs": [
    {
     "data": {
      "text/plain": [
       "<matplotlib.axes._subplots.AxesSubplot at 0x7feb24eba198>"
      ]
     },
     "execution_count": 145,
     "metadata": {},
     "output_type": "execute_result"
    },
    {
     "data": {
      "image/png": "[encoded data removed]",
      "text/plain": [
       "<Figure size 432x288 with 1 Axes>"
      ]
     },
     "metadata": {},
     "output_type": "display_data"
    }
   ],
   "source": [
    "grc_mean.plot.bar()"
   ]
  },
  {
   "cell_type": "markdown",
   "metadata": {},
   "source": [
    "## Przekształcanie kolumn zawierających tekst"
   ]
  },
  {
   "cell_type": "markdown",
   "metadata": {},
   "source": [
    "### Usuwanie znaków specjalnych z tekstu i opisu"
   ]
  },
  {
   "cell_type": "markdown",
   "metadata": {},
   "source": [
    "Funckja usuwająca znaki spoza systemu ASCII, linki, znaki specjalne oraz podwójne spacje."
   ]
  },
  {
   "cell_type": "code",
   "execution_count": 146,
   "metadata": {},
   "outputs": [],
   "source": [
    "def normalize_text(text):\n",
    "    text = text.lower()\n",
    "    \n",
    "    # Usuń znaki spoza ASCII\n",
    "    text = re.sub('[^\\x00-\\x7F]+',' ', text)\n",
    "    \n",
    "    # Usuń linki\n",
    "    text = re.sub('https?:\\/\\/.*[\\r\\n] ', ' ', text)\n",
    "    \n",
    "    # Usuń znaki specjalne\n",
    "    text = re.sub('[?!+%{}:;.,#\"\\'()\\[\\]_#\\&-@]', '',text) #@&-\n",
    "    \n",
    "    # Usuń podwójne spacje\n",
    "    text = re.sub('\\s+',' ',text)\n",
    "    \n",
    "    return text"
   ]
  },
  {
   "cell_type": "markdown",
   "metadata": {},
   "source": [
    "W orginalnej tabeli zostają stworzone trzy dodatkowe kolumny. Jedna `tekst_norm` jest znormalizowanym tekstem tweeta, druga `description_norm` jest znormalizowanym opisem oraz trzecia `all_text` jest połączeniem znormalizowanych tekstu i opisu."
   ]
  },
  {
   "cell_type": "code",
   "execution_count": 147,
   "metadata": {},
   "outputs": [],
   "source": [
    "df['text_norm'] = [normalize_text(text) for text in df['text']]\n",
    "df['description_norm'] = [normalize_text(text) for text in df['description']]\n",
    "df['all_text'] = df['text_norm'].str.cat(df['description_norm'],sep=' ')\n",
    "\n",
    "df = df.reset_index(drop=True)"
   ]
  },
  {
   "cell_type": "markdown",
   "metadata": {},
   "source": [
    "### Stop words"
   ]
  },
  {
   "cell_type": "markdown",
   "metadata": {},
   "source": [
    "Zbiór słów nazywany __stop words__ zawiera słowa nieposiadające dużego znaczenia. Usuwa się je w celu oczyszczenia danych tekstowych."
   ]
  },
  {
   "cell_type": "code",
   "execution_count": 148,
   "metadata": {},
   "outputs": [],
   "source": [
    "def del_stop_words_from_text(text):\n",
    "    stop_words = set(stopwords.words('english')) \n",
    "    word_tokens = word_tokenize(text) \n",
    "    \n",
    "    w_text = \"\"\n",
    "  \n",
    "    for w in word_tokens: \n",
    "        if w not in stop_words: \n",
    "            w_text += w\n",
    "            w_text += \" \"\n",
    "    \n",
    "    return w_text"
   ]
  },
  {
   "cell_type": "code",
   "execution_count": 149,
   "metadata": {},
   "outputs": [],
   "source": [
    "df['text_stop'] = [del_stop_words_from_text(text) for text in df['text_norm']]\n",
    "df['all_text_stop'] = [del_stop_words_from_text(text) for text in df['all_text']]\n",
    "df['description_stop'] = [del_stop_words_from_text(text) for text in df['description_norm']]"
   ]
  },
  {
   "cell_type": "markdown",
   "metadata": {},
   "source": [
    "Przykładowe tweety przed i po usunięciu __stop words__."
   ]
  },
  {
   "cell_type": "code",
   "execution_count": 150,
   "metadata": {},
   "outputs": [
    {
     "data": {
      "text/plain": [
       "'watching neighbours on sky catching up with the neighbs xxx xxx'"
      ]
     },
     "execution_count": 150,
     "metadata": {},
     "output_type": "execute_result"
    }
   ],
   "source": [
    "df['text_norm'][3]"
   ]
  },
  {
   "cell_type": "code",
   "execution_count": 151,
   "metadata": {},
   "outputs": [
    {
     "data": {
      "text/plain": [
       "'watching neighbours sky catching neighbs xxx xxx '"
      ]
     },
     "execution_count": 151,
     "metadata": {},
     "output_type": "execute_result"
    }
   ],
   "source": [
    "df['text_stop'][3]"
   ]
  },
  {
   "cell_type": "markdown",
   "metadata": {},
   "source": [
    "### Stemming"
   ]
  },
  {
   "cell_type": "markdown",
   "metadata": {},
   "source": [
    "__Stemming__ to technika normalizacji danych tekstowych polegająca usunięciu końcówek z wyrazów."
   ]
  },
  {
   "cell_type": "code",
   "execution_count": 152,
   "metadata": {},
   "outputs": [],
   "source": [
    "def stem_text(text, stemmer):\n",
    "    text_list = text.split()\n",
    "    \n",
    "    s_text = \"\"\n",
    "    \n",
    "    for item in text_list:\n",
    "        s_text += stemmer.stem(item)\n",
    "        s_text += \" \"\n",
    "    \n",
    "    return s_text"
   ]
  },
  {
   "cell_type": "code",
   "execution_count": 153,
   "metadata": {},
   "outputs": [],
   "source": [
    "stemmer = SnowballStemmer(\"english\")\n",
    "\n",
    "df['text_stem'] = [stem_text(text, stemmer) for text in df['text_stop']]\n",
    "df['all_text_stem'] = [stem_text(text, stemmer) for text in df['all_text_stop']]\n",
    "df['description_stem'] = [stem_text(text, stemmer) for text in df['description_stop']]"
   ]
  },
  {
   "cell_type": "markdown",
   "metadata": {},
   "source": [
    "Przykładowe tweety przed i po zastosowaniu techniki __stemming__."
   ]
  },
  {
   "cell_type": "code",
   "execution_count": 154,
   "metadata": {},
   "outputs": [
    {
     "data": {
      "text/plain": [
       "'watching neighbours sky catching neighbs xxx xxx '"
      ]
     },
     "execution_count": 154,
     "metadata": {},
     "output_type": "execute_result"
    }
   ],
   "source": [
    "df['text_stop'][3]"
   ]
  },
  {
   "cell_type": "code",
   "execution_count": 155,
   "metadata": {},
   "outputs": [
    {
     "data": {
      "text/plain": [
       "'watch neighbour sky catch neighb xxx xxx '"
      ]
     },
     "execution_count": 155,
     "metadata": {},
     "output_type": "execute_result"
    }
   ],
   "source": [
    "df['text_stem'][3]"
   ]
  },
  {
   "cell_type": "markdown",
   "metadata": {},
   "source": [
    "## Wizualizacja najczęściej używanych słów ze względu na płeć"
   ]
  },
  {
   "cell_type": "markdown",
   "metadata": {},
   "source": [
    "Funckja tworząca wykresy najczęściej użytych słów dla płci oraz dla wybranego tekstu. "
   ]
  },
  {
   "cell_type": "code",
   "execution_count": 156,
   "metadata": {},
   "outputs": [],
   "source": [
    "def plot_common_words(gender, text_name, color):\n",
    "    X = df[df['gender'] == gender][[text_name]]\n",
    "    X.columns=['Text']\n",
    "    text = X['Text'].tolist()\n",
    "\n",
    "    tokens = []\n",
    "\n",
    "    for item in text:\n",
    "        tokens.append(word_tokenize(item))\n",
    "\n",
    "    words = []\n",
    "\n",
    "    for item in tokens:\n",
    "        words = words + item\n",
    "\n",
    "    counter = dict(collections.Counter(words))\n",
    "    counter_df = pd.DataFrame.from_dict(counter, orient='index').reset_index().rename(columns={'index':'word', 0:'count'})\n",
    "    counter_df = counter_df.sort_values(by=['count'], ascending=False).head(10)\n",
    "    \n",
    "    plt.figure(figsize=(14, 7))\n",
    "    plt.barh(counter_df['word'], counter_df['count'], color=color)\n",
    "    plt.title('Most used words by ' + gender + 's for ' + text_name)\n",
    "    plt.xlabel('frequency')\n",
    "    plt.ylabel('words')\n",
    "    plt.gca().invert_yaxis()\n",
    "    plt.show()"
   ]
  },
  {
   "cell_type": "markdown",
   "metadata": {},
   "source": [
    "Użycie funkcji, dla wszystkich płci, dla połączonego tekstu tweeta i opisu."
   ]
  },
  {
   "cell_type": "code",
   "execution_count": 157,
   "metadata": {},
   "outputs": [
    {
     "data": {
      "image/png": "[encoded data removed]",
      "text/plain": [
       "<Figure size 1008x504 with 1 Axes>"
      ]
     },
     "metadata": {},
     "output_type": "display_data"
    },
    {
     "data": {
      "image/png": "[encoded data removed]",
      "text/plain": [
       "<Figure size 1008x504 with 1 Axes>"
      ]
     },
     "metadata": {},
     "output_type": "display_data"
    },
    {
     "data": {
      "image/png": "[encoded data removed]",
      "text/plain": [
       "<Figure size 1008x504 with 1 Axes>"
      ]
     },
     "metadata": {},
     "output_type": "display_data"
    }
   ],
   "source": [
    "# cały tekst\n",
    "plot_common_words('male', 'all_text_stem', '#0C86CF')\n",
    "plot_common_words('female', 'all_text_stem', '#E6ADD8')\n",
    "plot_common_words('brand', 'all_text_stem', '#000000')"
   ]
  },
  {
   "cell_type": "markdown",
   "metadata": {},
   "source": [
    "W połączonym tekście widać wyraźnie różnicę w słowach używanych przez firmy i przez osoby prywatne. Niestety różnica między słowami używanymi przez mężczyzn i kobiety."
   ]
  },
  {
   "cell_type": "code",
   "execution_count": 158,
   "metadata": {},
   "outputs": [
    {
     "data": {
      "image/png": "[encoded data removed]",
      "text/plain": [
       "<Figure size 1008x504 with 1 Axes>"
      ]
     },
     "metadata": {},
     "output_type": "display_data"
    },
    {
     "data": {
      "image/png": "[encoded data removed]",
      "text/plain": [
       "<Figure size 1008x504 with 1 Axes>"
      ]
     },
     "metadata": {},
     "output_type": "display_data"
    },
    {
     "data": {
      "image/png": "[encoded data removed]",
      "text/plain": [
       "<Figure size 1008x504 with 1 Axes>"
      ]
     },
     "metadata": {},
     "output_type": "display_data"
    }
   ],
   "source": [
    "# opis\n",
    "plot_common_words('male', 'description_stem', '#0C86CF')\n",
    "plot_common_words('female', 'description_stem', '#E6ADD8')\n",
    "plot_common_words('brand', 'description_stem', '#000000')"
   ]
  },
  {
   "cell_type": "markdown",
   "metadata": {},
   "source": [
    "W opisie profilu ponownie można wyraźnie odróżnić słowa używane przez firmy. W przypadku obu płci pokrywają się pierwsze 4 pozycje na liście, jednak kolejne słowa różnią się od siebie."
   ]
  },
  {
   "cell_type": "code",
   "execution_count": 159,
   "metadata": {},
   "outputs": [
    {
     "data": {
      "image/png": "[encoded data removed]",
      "text/plain": [
       "<Figure size 1008x504 with 1 Axes>"
      ]
     },
     "metadata": {},
     "output_type": "display_data"
    },
    {
     "data": {
      "image/png": "[encoded data removed]",
      "text/plain": [
       "<Figure size 1008x504 with 1 Axes>"
      ]
     },
     "metadata": {},
     "output_type": "display_data"
    },
    {
     "data": {
      "image/png": "[encoded data removed]",
      "text/plain": [
       "<Figure size 1008x504 with 1 Axes>"
      ]
     },
     "metadata": {},
     "output_type": "display_data"
    }
   ],
   "source": [
    "# tekst tweeta\n",
    "plot_common_words('male', 'text_stem', '#0C86CF')\n",
    "plot_common_words('female', 'text_stem', '#E6ADD8')\n",
    "plot_common_words('brand', 'text_stem', '#000000')"
   ]
  },
  {
   "cell_type": "markdown",
   "metadata": {},
   "source": [
    "W tekscie tweeta sytuacja jest podobna jak w przypadku całego tekstu i opisu."
   ]
  },
  {
   "cell_type": "markdown",
   "metadata": {},
   "source": [
    "# Przewidywanie płci"
   ]
  },
  {
   "cell_type": "markdown",
   "metadata": {},
   "source": [
    "## Wybór klasyfikatora"
   ]
  },
  {
   "cell_type": "markdown",
   "metadata": {},
   "source": [
    "Postanowiliśmy sprawdzić działanie trzech klasyfikatorów: `MultinomialNB`, `KNeighborsClassifier` i `RandomForestClassifier`, czyli odpowiednio naiwnego klasyfikatora bayesowskiego, klasyfikatora k-najbliższych sąsiadów oraz klasyfikatora wykorzystującego drzewa decyzyjne."
   ]
  },
  {
   "cell_type": "markdown",
   "metadata": {},
   "source": [
    "Funkcja wykorzystująca podany klasyfikator, przewidująca jakiej płci jest użytkownik, na podstawie wybranego tekstu."
   ]
  },
  {
   "cell_type": "code",
   "execution_count": 161,
   "metadata": {},
   "outputs": [],
   "source": [
    "def predict_for_set(data_set, text, clf):\n",
    "    X = data_set[[text]]\n",
    "    y = data_set[['gender']]\n",
    "    X_train, X_test, y_train, y_test = train_test_split(X, y, test_size=0.2)\n",
    "\n",
    "    count_vect = CountVectorizer()\n",
    "    X_train_vect = count_vect.fit_transform(X_train.iloc[:, 0])\n",
    "    X_test_vect = count_vect.transform(X_test.iloc[:, 0])\n",
    "\n",
    "    \n",
    "    tfidf_transformer = TfidfTransformer()\n",
    "    X_train_tfidf = tfidf_transformer.fit_transform(X_train_vect)\n",
    "    X_test_tfidf = tfidf_transformer.fit_transform(X_test_vect)\n",
    "\n",
    "    t_start=time.time()\n",
    "    \n",
    "    alg = clf.fit(X_train_tfidf, y_train)\n",
    "\n",
    "    t_pred = round(time.time() - t_start, 3)\n",
    "    \n",
    "    y_pred = alg.predict(X_test_tfidf)\n",
    "    \n",
    "    y_pred_tr = alg.predict(X_train_tfidf)\n",
    "\n",
    "    accuracy = metrics.accuracy_score(y_test, y_pred)\n",
    "    \n",
    "    return accuracy, t_pred"
   ]
  },
  {
   "cell_type": "markdown",
   "metadata": {},
   "source": [
    "Porównanie klasyfikatorów i różnych tekstów."
   ]
  },
  {
   "cell_type": "code",
   "execution_count": 162,
   "metadata": {},
   "outputs": [
    {
     "name": "stderr",
     "output_type": "stream",
     "text": [
      "/home/jakubkorczakowski/anaconda3/lib/python3.7/site-packages/sklearn/utils/validation.py:724: DataConversionWarning: A column-vector y was passed when a 1d array was expected. Please change the shape of y to (n_samples, ), for example using ravel().\n",
      "  y = column_or_1d(y, warn=True)\n",
      "/home/jakubkorczakowski/anaconda3/lib/python3.7/site-packages/sklearn/utils/validation.py:724: DataConversionWarning: A column-vector y was passed when a 1d array was expected. Please change the shape of y to (n_samples, ), for example using ravel().\n",
      "  y = column_or_1d(y, warn=True)\n",
      "/home/jakubkorczakowski/anaconda3/lib/python3.7/site-packages/sklearn/utils/validation.py:724: DataConversionWarning: A column-vector y was passed when a 1d array was expected. Please change the shape of y to (n_samples, ), for example using ravel().\n",
      "  y = column_or_1d(y, warn=True)\n",
      "/home/jakubkorczakowski/anaconda3/lib/python3.7/site-packages/ipykernel_launcher.py:17: DataConversionWarning: A column-vector y was passed when a 1d array was expected. Please change the shape of y to (n_samples, ), for example using ravel().\n",
      "/home/jakubkorczakowski/anaconda3/lib/python3.7/site-packages/ipykernel_launcher.py:17: DataConversionWarning: A column-vector y was passed when a 1d array was expected. Please change the shape of y to (n_samples, ), for example using ravel().\n",
      "/home/jakubkorczakowski/anaconda3/lib/python3.7/site-packages/ipykernel_launcher.py:17: DataConversionWarning: A column-vector y was passed when a 1d array was expected. Please change the shape of y to (n_samples, ), for example using ravel().\n",
      "/home/jakubkorczakowski/anaconda3/lib/python3.7/site-packages/sklearn/ensemble/forest.py:245: FutureWarning: The default value of n_estimators will change from 10 in version 0.20 to 100 in 0.22.\n",
      "  \"10 in version 0.20 to 100 in 0.22.\", FutureWarning)\n",
      "/home/jakubkorczakowski/anaconda3/lib/python3.7/site-packages/ipykernel_launcher.py:17: DataConversionWarning: A column-vector y was passed when a 1d array was expected. Please change the shape of y to (n_samples,), for example using ravel().\n",
      "/home/jakubkorczakowski/anaconda3/lib/python3.7/site-packages/ipykernel_launcher.py:17: DataConversionWarning: A column-vector y was passed when a 1d array was expected. Please change the shape of y to (n_samples,), for example using ravel().\n",
      "/home/jakubkorczakowski/anaconda3/lib/python3.7/site-packages/ipykernel_launcher.py:17: DataConversionWarning: A column-vector y was passed when a 1d array was expected. Please change the shape of y to (n_samples,), for example using ravel().\n"
     ]
    },
    {
     "data": {
      "text/html": [
       "<div>\n",
       "<style scoped>\n",
       "    .dataframe tbody tr th:only-of-type {\n",
       "        vertical-align: middle;\n",
       "    }\n",
       "\n",
       "    .dataframe tbody tr th {\n",
       "        vertical-align: top;\n",
       "    }\n",
       "\n",
       "    .dataframe thead th {\n",
       "        text-align: right;\n",
       "    }\n",
       "</style>\n",
       "<table border=\"1\" class=\"dataframe\">\n",
       "  <thead>\n",
       "    <tr style=\"text-align: right;\">\n",
       "      <th></th>\n",
       "      <th>Klasyfikator</th>\n",
       "      <th>Kolumna z tekstem</th>\n",
       "      <th>Dokładność</th>\n",
       "      <th>Czas</th>\n",
       "    </tr>\n",
       "  </thead>\n",
       "  <tbody>\n",
       "    <tr>\n",
       "      <th>0</th>\n",
       "      <td>MultinomialNB</td>\n",
       "      <td>text_norm</td>\n",
       "      <td>0.49</td>\n",
       "      <td>0.02</td>\n",
       "    </tr>\n",
       "    <tr>\n",
       "      <th>1</th>\n",
       "      <td>MultinomialNB</td>\n",
       "      <td>description_norm</td>\n",
       "      <td>0.67</td>\n",
       "      <td>0.02</td>\n",
       "    </tr>\n",
       "    <tr>\n",
       "      <th>2</th>\n",
       "      <td>MultinomialNB</td>\n",
       "      <td>all_text</td>\n",
       "      <td>0.62</td>\n",
       "      <td>0.02</td>\n",
       "    </tr>\n",
       "    <tr>\n",
       "      <th>3</th>\n",
       "      <td>KNeighborsClassifier</td>\n",
       "      <td>text_norm</td>\n",
       "      <td>0.50</td>\n",
       "      <td>0.01</td>\n",
       "    </tr>\n",
       "    <tr>\n",
       "      <th>4</th>\n",
       "      <td>KNeighborsClassifier</td>\n",
       "      <td>description_norm</td>\n",
       "      <td>0.45</td>\n",
       "      <td>0.01</td>\n",
       "    </tr>\n",
       "    <tr>\n",
       "      <th>5</th>\n",
       "      <td>KNeighborsClassifier</td>\n",
       "      <td>all_text</td>\n",
       "      <td>0.56</td>\n",
       "      <td>0.01</td>\n",
       "    </tr>\n",
       "    <tr>\n",
       "      <th>6</th>\n",
       "      <td>RandomForestClassifier</td>\n",
       "      <td>text_norm</td>\n",
       "      <td>0.48</td>\n",
       "      <td>1.24</td>\n",
       "    </tr>\n",
       "    <tr>\n",
       "      <th>7</th>\n",
       "      <td>RandomForestClassifier</td>\n",
       "      <td>description_norm</td>\n",
       "      <td>0.60</td>\n",
       "      <td>1.06</td>\n",
       "    </tr>\n",
       "    <tr>\n",
       "      <th>8</th>\n",
       "      <td>RandomForestClassifier</td>\n",
       "      <td>all_text</td>\n",
       "      <td>0.56</td>\n",
       "      <td>1.15</td>\n",
       "    </tr>\n",
       "  </tbody>\n",
       "</table>\n",
       "</div>"
      ],
      "text/plain": [
       "             Klasyfikator Kolumna z tekstem  Dokładność  Czas\n",
       "0           MultinomialNB         text_norm        0.49  0.02\n",
       "1           MultinomialNB  description_norm        0.67  0.02\n",
       "2           MultinomialNB          all_text        0.62  0.02\n",
       "3    KNeighborsClassifier         text_norm        0.50  0.01\n",
       "4    KNeighborsClassifier  description_norm        0.45  0.01\n",
       "5    KNeighborsClassifier          all_text        0.56  0.01\n",
       "6  RandomForestClassifier         text_norm        0.48  1.24\n",
       "7  RandomForestClassifier  description_norm        0.60  1.06\n",
       "8  RandomForestClassifier          all_text        0.56  1.15"
      ]
     },
     "execution_count": 162,
     "metadata": {},
     "output_type": "execute_result"
    }
   ],
   "source": [
    "clf_m = MultinomialNB()\n",
    "clf_k = KNeighborsClassifier()\n",
    "clf_r = RandomForestClassifier()\n",
    "\n",
    "clf_list = [clf_m, \n",
    "            clf_k, \n",
    "            clf_r]\n",
    "\n",
    "clf_names_list = ['MultinomialNB', \n",
    "                  'KNeighborsClassifier', \n",
    "                  'RandomForestClassifier']\n",
    "\n",
    "texts_list = ['text_norm', \n",
    "              'description_norm', \n",
    "              'all_text']\n",
    "\n",
    "data = {'Klasyfikator':[], \n",
    "        'Kolumna z tekstem':[], \n",
    "        'Dokładność':[], \n",
    "        'Czas':[]}\n",
    "\n",
    "for i in range(len(clf_list)):\n",
    "    for text_name in texts_list:\n",
    "        res = predict_for_set(df, text_name, clf_list[i])\n",
    "        data['Klasyfikator'].append(clf_names_list[i])\n",
    "        data['Kolumna z tekstem'].append(text_name)\n",
    "        data['Dokładność'].append(res[0])\n",
    "        data['Czas'].append(res[1])\n",
    "        \n",
    "clf_df = pd.DataFrame(data=data)\n",
    "clf_df"
   ]
  },
  {
   "cell_type": "markdown",
   "metadata": {},
   "source": [
    "Wykres przedstawiający dokładność i czas trenowania w zależności od wybranego klasyfikatora i tekstu."
   ]
  },
  {
   "cell_type": "code",
   "execution_count": 163,
   "metadata": {},
   "outputs": [
    {
     "data": {
      "text/plain": [
       "<matplotlib.axes._subplots.AxesSubplot at 0x7feb25a49b38>"
      ]
     },
     "execution_count": 163,
     "metadata": {},
     "output_type": "execute_result"
    },
    {
     "data": {
      "image/png": "[encoded data removed]",
      "text/plain": [
       "<Figure size 432x288 with 1 Axes>"
      ]
     },
     "metadata": {},
     "output_type": "display_data"
    }
   ],
   "source": [
    "clf_df.sort_values(by='Dokładność').plot.barh()"
   ]
  },
  {
   "cell_type": "markdown",
   "metadata": {},
   "source": [
    "Na podstawnie wykresu widać, że najlepsze efekty daje klasyfikator `MultinomialNB` z wykorzystaniem kolumny `description_norm`, czyli samego opisu.\t"
   ]
  },
  {
   "cell_type": "code",
   "execution_count": 164,
   "metadata": {},
   "outputs": [],
   "source": [
    "def predict_for_set_and_draw(data_set, text, clf):\n",
    "    X = data_set[[text]]\n",
    "    y = data_set[['gender']]\n",
    "    X_train, X_test, y_train, y_test = train_test_split(X, y, test_size=0.2)\n",
    "\n",
    "    count_vect = CountVectorizer()\n",
    "    X_train_vect = count_vect.fit_transform(X_train.iloc[:, 0])\n",
    "    X_test_vect = count_vect.transform(X_test.iloc[:, 0])\n",
    "\n",
    "    \n",
    "    tfidf_transformer = TfidfTransformer()\n",
    "    X_train_tfidf = tfidf_transformer.fit_transform(X_train_vect)\n",
    "    X_test_tfidf = tfidf_transformer.fit_transform(X_test_vect)\n",
    "    \n",
    "    alg = clf.fit(X_train_tfidf, y_train)\n",
    "    \n",
    "    y_pred = alg.predict(X_test_tfidf)\n",
    "    \n",
    "    y_pred_tr = alg.predict(X_train_tfidf)\n",
    "    \n",
    "    print(\"Accuracy dla zbioru testowego: \")\n",
    "    print(metrics.accuracy_score(y_test, y_pred), \"\\n\")\n",
    "    print(\"Accuracy dla zbioru uczącego: \")\n",
    "    print(metrics.accuracy_score(y_train, y_pred_tr), \"\\n\")\n",
    "    \n",
    "    #print(\"Macierz pomyłek dla zbioru uczącego\")\n",
    "    #print(pd.crosstab(y_train.to_numpy().transpose()[0], y_pred_tr)) \n",
    "    #sns.heatmap(pd.crosstab(y_train.to_numpy().transpose()[0], y_pred_tr),\n",
    "    #        cmap=\"YlGnBu\", annot=True, cbar=False)\n",
    "    \n",
    "    print(\"Macierz pomyłek dla zbioru testowego\")\n",
    "    print(pd.crosstab(y_test.to_numpy().transpose()[0], y_pred)) \n",
    "    sns.heatmap(pd.crosstab(y_test.to_numpy().transpose()[0], y_pred),\n",
    "            cmap=\"YlGnBu\", annot=True, cbar=False)"
   ]
  },
  {
   "cell_type": "markdown",
   "metadata": {},
   "source": [
    "Przewidywanie płci na podstawie opisu"
   ]
  },
  {
   "cell_type": "code",
   "execution_count": 165,
   "metadata": {},
   "outputs": [
    {
     "name": "stdout",
     "output_type": "stream",
     "text": [
      "Accuracy dla zbioru testowego: \n",
      "0.6918505942275043 \n",
      "\n",
      "Accuracy dla zbioru uczącego: \n",
      "0.8924856718318829 \n",
      "\n",
      "Macierz pomyłek dla zbioru testowego\n",
      "col_0   brand  female  male\n",
      "row_0                      \n",
      "brand     442      80    48\n",
      "female     33     758   201\n",
      "male       41     323   430\n"
     ]
    },
    {
     "name": "stderr",
     "output_type": "stream",
     "text": [
      "/home/jakubkorczakowski/anaconda3/lib/python3.7/site-packages/sklearn/utils/validation.py:724: DataConversionWarning: A column-vector y was passed when a 1d array was expected. Please change the shape of y to (n_samples, ), for example using ravel().\n",
      "  y = column_or_1d(y, warn=True)\n"
     ]
    },
    {
     "data": {
      "image/png": "[encoded data removed]",
      "text/plain": [
       "<Figure size 432x288 with 1 Axes>"
      ]
     },
     "metadata": {},
     "output_type": "display_data"
    }
   ],
   "source": [
    "predict_for_set_and_draw(df, 'description_norm', clf_m)"
   ]
  },
  {
   "cell_type": "markdown",
   "metadata": {},
   "source": [
    "Na podstawnie macierzy pomyłek widać, że klasyfikator poprawnie rozpoznaje firmy, problem ma z rozróżnieniem kobiet i mężczyzn."
   ]
  },
  {
   "cell_type": "markdown",
   "metadata": {},
   "source": [
    "## Podsumowanie"
   ]
  },
  {
   "cell_type": "markdown",
   "metadata": {},
   "source": [
    "Problemem postawionym podczas tego projektu było rozpoznawanie płci użytkowników Twittera. Udało nam się rozpoznawać płeć z dokładnością około __67%__. Wynik ten mógłbybyć poprawiony prawdopodocnie poprzez dodanie większej ilości atrybutów lub zastosowanie bardziej złożonych obliczeniowo algorytmów."
   ]
  }
 ],
 "metadata": {
  "kernelspec": {
   "display_name": "Python 3",
   "language": "python",
   "name": "python3"
  },
  "language_info": {
   "codemirror_mode": {
    "name": "ipython",
    "version": 3
   },
   "file_extension": ".py",
   "mimetype": "text/x-python",
   "name": "python",
   "nbconvert_exporter": "python",
   "pygments_lexer": "ipython3",
   "version": "3.7.3"
  },
  "pycharm": {
   "stem_cell": {
    "cell_type": "raw",
    "metadata": {
     "collapsed": false
    },
    "source": []
   }
  }
 },
 "nbformat": 4,
 "nbformat_minor": 2
}
